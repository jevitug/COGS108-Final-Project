{
 "cells": [
  {
   "cell_type": "markdown",
   "metadata": {},
   "source": [
    "# COGS 108 - Final Project "
   ]
  },
  {
   "cell_type": "markdown",
   "metadata": {},
   "source": [
    "# Overview"
   ]
  },
  {
   "cell_type": "markdown",
   "metadata": {},
   "source": [
    "*Fill in your overview here*"
   ]
  },
  {
   "cell_type": "markdown",
   "metadata": {},
   "source": [
    "# Names\n",
    "\n",
    "- Jared Vitug\n",
    "- Miguel Morales\n",
    "- Phat Ly\n",
    "- Kevin Mach"
   ]
  },
  {
   "cell_type": "markdown",
   "metadata": {},
   "source": [
    "# Group Members IDs\n",
    "\n",
    "- A92083122\n",
    "- A########\n",
    "- A########\n",
    "- A12647584"
   ]
  },
  {
   "cell_type": "markdown",
   "metadata": {},
   "source": [
    "# Research Question"
   ]
  },
  {
   "cell_type": "markdown",
   "metadata": {},
   "source": [
    "Can we predict a current winning nba bracket from regular season matchup statistics collected over the last 10 years?\n",
    "In a best-of-seven NBA playoff series, two teams will matchup against each other consecutively at least four times. This is unlike the regular season schedule in any way, where teams in the same division play at most four times but over the span of an 82 game season. However, we believe that from regular season statistics gathered from the eight current playoff matchups, over the span of the last ten years, we can predict an accurate playoff bracket for the current season’s playoffs. We will look at data such as each team’s winning percentage, number of assists, total offensive rebounds, number of roster changes, etc. to create a model that will tell us which team will win in a playoff series. We will take that model and use it to pick the winners of our bracket.\n"
   ]
  },
  {
   "cell_type": "markdown",
   "metadata": {},
   "source": [
    "## Background and Prior Work"
   ]
  },
  {
   "cell_type": "markdown",
   "metadata": {},
   "source": [
    "With NBA playoffs in full effect, we knew we wanted to research something relative to basketball that was also fun.  We all know sports are near impossible to predict and basketball is no exception - or is it? We began to wonder what if, given a playoff bracket, we could predict each round of the playoffs and thereby figure out who would win the championship.\n",
    "\n",
    "Each of us watches basketball and knows a few plays can define a game.  Injuries happen, human error occurs, and upsets take place.  However, in the world of sports betting, none of this matters - only numbers matter.  That’s why we decided to find the best combination of regular season matchup stats (between two teams pitted against each other in the playoffs) that can successfully predict a series outcome.\n",
    "\n",
    "When it comes to the individual statistics, we know that the team which wins the turnover battle usually comes out on top, as does the team with more rebounds and shooting percentage.  However, with all the different play-styles in today’s NBA (iso-ball, backcourt dominance, frontcourt dominance) we want to find out if there are other team stats that can help us predict winners, such as three pointers taken, team fouls, timeouts used, etc.\n",
    "\n",
    "\n",
    "https://towardsdatascience.com/predicting-nba-winning-percentage-in-upcoming-season-using-linear-regression-f8687d9c0418\n",
    "https://github.com/COGS108/FinalProjects-Wi18/blob/master/001-FinalProject.ipynb\n",
    "The above link is to a similar project where someone took 40 years of basketball data from basketball-reference.com and trained the data to predict NBA winning percentage.  The article says that “average age of the players, margin of victory, number of points scored, number of returning players, and number of blocks” were some of the statistics included, which gives us some idea as to which statistics to pull.   The study’s analysis discusses how wrong the model was in over-predicting winning seasons and underpredicting losing seasons with the reason being injuries, trades, and retirements - all things which are hard to predict and difficult to assess from a mathematical perspective."
   ]
  },
  {
   "cell_type": "markdown",
   "metadata": {},
   "source": [
    "# Hypothesis\n"
   ]
  },
  {
   "cell_type": "markdown",
   "metadata": {},
   "source": [
    "We hypothesize that it is possible to predict the winner of a 7-game playoff series between two NBA teams by analyzing their regular season matchup statistics.\n",
    "By narrowing our data to historical team matchups, we can examine specific factors that may be pertinent in explaining why one team may have the competitive edge. There are many accessible statistics for every NBA game, and this data can be utilized to determine if one franchise may have a playstyle better suited for a particular opponent. Features such as the record of the matchups (giving more weight to recent wins), number of possessions, offensive rebounds, total assists, turnovers, etc. are all telling of how advantageous a team is over the other. Although teams change over time due to player, coach, and management contracts, we will attempt to take those conditions into account by feature engineering, as winning teams tend to have less structure change. Additionally, we can favor more recent data as it will be more telling of the current matchup. Therefore, with a catalog of in depth matchup statistics, we hypothesize that we can create a strong dataset for our model to predict a correct playoff bracket.\n"
   ]
  },
  {
   "cell_type": "markdown",
   "metadata": {},
   "source": [
    "# Dataset(s)"
   ]
  },
  {
   "cell_type": "markdown",
   "metadata": {},
   "source": [
    "Dataset Name: NBA Advanced Stat\n",
    "Dataset Source : https://stats.nba.com/\n",
    "Dataset Link  : https://stats.nba.com/teams/traditional/?sort=W_PCT&dir=-1&Season=2018-19&SeasonType=Regular%20Season  \t\n",
    "Number of datasets planned : 10 total, 1 for each regular season starting from August 2008 -  April 2019\n",
    " \n",
    "Dataset Explanation: This website contains datasets about the NBA teams’ statistics from year 1999 to present date. Those datasets are organized as in form of a table, where the rows represent the teams and the columns are observations such as win-loss record, shooting percentages, rebounds ..etc.  Since we are planning on using the statistic of the past 10 regular season matchups, this website is useful in that it contains the information from the previous years and we will have to select the options provided in the website (in the provided link) to get the optimal dataset for our project. We will try to pull the regular season information for each year (from 2008 to present date), then drop off teams that are not participating in the current year playoff. We might also need to differentiate each season statistics, perhaps giving more weight to recent year stats than older years.  \n"
   ]
  },
  {
   "cell_type": "markdown",
   "metadata": {},
   "source": [
    "# Setup"
   ]
  },
  {
   "cell_type": "code",
   "execution_count": 1,
   "metadata": {},
   "outputs": [],
   "source": [
    "# Imports \n",
    "%matplotlib inline\n",
    "\n",
    "import numpy as np\n",
    "import pandas as pd\n",
    "import matplotlib.pyplot as plt\n",
    "import requests\n",
    "import bs4\n",
    "from bs4 import BeautifulSoup\n",
    "\n"
   ]
  },
  {
   "cell_type": "code",
   "execution_count": 2,
   "metadata": {},
   "outputs": [],
   "source": [
    "#example URL\n",
    "# https://www.basketball-reference.com/teams/MIL/2019/gamelog/?fbclid=IwAR3BFW5ivLDuQE5NRVkPbHnEIlwe-CCCsoeo8RxOxmcPHssP0_mzfJgsVr8\n",
    "\n",
    "year_array = [\"2010\", \"2011\", \"2012\", \"2013\", \"2014\", \"2015\", \n",
    "              \"2016\", \"2017\", \"2018\", \"2019\"]\n",
    "team_array = [\"GSW\", \"HOU\", \"POR\", \"DEN\", \"LAC\", \"UTA\", \"OKC\", \n",
    "             \"SAS\", \"MIL\", \"BOS\", \"PHI\", \"TOR\", \"DET\", \"IND\", \"ORL\", \"BRK\"]\n",
    "\n",
    "def create_url(year_array, team_array):\n",
    "    #variables for appending the URLs\n",
    "    begLink = \"https://www.basketball-reference.com/teams/\"\n",
    "    endLink = \"/gamelog/?fbclid=IwAR3BFW5ivLDuQE5NRVkPbHnEIlwe-CCCsoeo8RxOxmcPHssP0_mzfJgsVr8\"\n",
    "    #array to store the url's\n",
    "    url_list = []\n",
    "    #loop through team_array \n",
    "    for i in team_array:\n",
    "        #loop through each year in \n",
    "        for j in year_array:\n",
    "            team_name = i\n",
    "            # if the team is Brooklyn and the year is 2010-2012, team name\n",
    "            # is New Jersey Nets\n",
    "            if(i == \"BRK\" and (j == \"2010\" or j == \"2011\" or j == \"2012\")):\n",
    "                team_name = \"NJN\"    \n",
    "            temp_url = begLink + team_name + \"/\" + j + endLink\n",
    "            #print(temp_url)\n",
    "            url_list = np.append(url_list, temp_url)\n",
    "    #print(url_list)\n",
    "    return url_list\n",
    "\n",
    "            \n",
    "url_list = create_url(year_array, team_array)\n"
   ]
  },
  {
   "cell_type": "code",
   "execution_count": null,
   "metadata": {},
   "outputs": [],
   "source": [
    "url_list"
   ]
  },
  {
   "cell_type": "code",
   "execution_count": 3,
   "metadata": {},
   "outputs": [],
   "source": [
    "#this code creates a list of dataframes corresponding to the url's in url_list\n",
    "\n",
    "#list to store individual dataframes before combining\n",
    "df_list = []\n",
    "#i = 0\n",
    "for url in url_list:\n",
    "    #print(i)\n",
    "    req = requests.get(url)\n",
    "    soup = BeautifulSoup(req.content, 'html.parser') #get contents of webpage\n",
    "    nbatables = soup.findAll(\"table\", 'row_summable sortable stats_table') #get tables\n",
    "    tbl1 = nbatables[0]\n",
    "    new_tbl1 = pd.DataFrame(columns=range(0,40), index = range(0,91))\n",
    "    \n",
    "    #get the column names for our first table\n",
    "    ind=0\n",
    "    cols_list = []\n",
    "    for header in tbl1.find_all('tr'): #specify HTML tags\n",
    "        header_name = header.find_all('th') #tag containing column names\n",
    "        for head in header_name:\n",
    "            cols_list.append(head.get_text()) #get the text from between the tags\n",
    "    \n",
    "    #fill in contents for each table\n",
    "    row_marker = -1\n",
    "    for row in tbl1.find_all('tr'):\n",
    "        column_marker = 0\n",
    "        columns = row.find_all('td') # different tag than above for table contents\n",
    "        for column in columns:\n",
    "            new_tbl1.iat[row_marker,column_marker] = column.get_text()\n",
    "            column_marker += 1\n",
    "        row_marker += 1\n",
    "    df_list.append(new_tbl1)\n",
    "    #i = i + 1"
   ]
  },
  {
   "cell_type": "code",
   "execution_count": 6,
   "metadata": {},
   "outputs": [],
   "source": [
    "def create_team_df(team, df_list):\n",
    "    #team_df = df_list[0]\n",
    "    if(team == \"GSW\"):\n",
    "        i = 0\n",
    "        team_df = df_list[i];\n",
    "        while i < 9:\n",
    "            team_df = team_df.append(df_list[i+1])\n",
    "            i = i + 1\n",
    "    if(team == \"HOU\"):\n",
    "        i = 10\n",
    "        team_df = df_list[i];\n",
    "        while i < 19:\n",
    "            team_df = team_df.append(df_list[i+1])\n",
    "            i = i + 1\n",
    "    if(team == \"POR\"):\n",
    "        i = 20\n",
    "        team_df = df_list[i];\n",
    "        while i < 29:\n",
    "            team_df = team_df.append(df_list[i+1])\n",
    "            i = i + 1\n",
    "    if(team == \"DEN\"):\n",
    "        i = 30\n",
    "        team_df = df_list[i];\n",
    "        while i < 39:\n",
    "            team_df = team_df.append(df_list[i+1])\n",
    "            i = i + 1\n",
    "    if(team == \"LAC\"):\n",
    "        i = 40\n",
    "        team_df = df_list[i];\n",
    "        while i < 49:\n",
    "            team_df = team_df.append(df_list[i+1])\n",
    "            i = i + 1\n",
    "    if(team == \"UTA\"):\n",
    "        i = 50\n",
    "        team_df = df_list[i];\n",
    "        while i < 59:\n",
    "            team_df = team_df.append(df_list[i+1])\n",
    "            i = i + 1\n",
    "    if(team == \"OKC\"):\n",
    "        i = 60\n",
    "        team_df = df_list[i];\n",
    "        while i < 69:\n",
    "            team_df = team_df.append(df_list[i+1])\n",
    "            i = i + 1\n",
    "    if(team == \"SAS\"):\n",
    "        i = 70\n",
    "        team_df = df_list[i];\n",
    "        while i < 79:\n",
    "            team_df = team_df.append(df_list[i+1])\n",
    "            i = i + 1\n",
    "    if(team == \"MIL\"):\n",
    "        i = 80\n",
    "        team_df = df_list[i];\n",
    "        while i < 89:\n",
    "            team_df = team_df.append(df_list[i+1])\n",
    "            i = i + 1\n",
    "    if(team == \"BOS\"):\n",
    "        i = 90\n",
    "        team_df = df_list[i];\n",
    "        while i < 99:\n",
    "            team_df = team_df.append(df_list[i+1])\n",
    "            i = i + 1\n",
    "    if(team == \"PHI\"):\n",
    "        i = 100\n",
    "        team_df = df_list[i];\n",
    "        while i < 109:\n",
    "            team_df = team_df.append(df_list[i+1])\n",
    "            i = i + 1\n",
    "    if(team == \"TOR\"):\n",
    "        i = 110\n",
    "        team_df = df_list[i];\n",
    "        while i < 119:\n",
    "            team_df = team_df.append(df_list[i+1])\n",
    "            i = i + 1\n",
    "    if(team == \"DET\"):\n",
    "        i = 120\n",
    "        team_df = df_list[i];\n",
    "        while i < 129:\n",
    "            team_df = team_df.append(df_list[i+1])\n",
    "            i = i + 1\n",
    "    if(team == \"IND\"):\n",
    "        i = 130\n",
    "        team_df = df_list[i];\n",
    "        while i < 139:\n",
    "            team_df = team_df.append(df_list[i+1])\n",
    "            i = i + 1\n",
    "    if(team == \"ORL\"):\n",
    "        i = 140\n",
    "        team_df = df_list[i];\n",
    "        while i < 149:\n",
    "            team_df = team_df.append(df_list[i+1])\n",
    "            i = i + 1\n",
    "    if(team == \"BRK\"):\n",
    "        i = 150\n",
    "        team_df = df_list[i];\n",
    "        while i < 159:\n",
    "            team_df = team_df.append(df_list[i+1])\n",
    "            i = i + 1\n",
    "    #NOTE: renamed opponent points to OppP\n",
    "    team_df.columns = [\n",
    " 'G',\n",
    " 'Date',\n",
    " '\\xa0',\n",
    " 'Opp',\n",
    " 'W/L',\n",
    " 'Tm',\n",
    " 'OppP',\n",
    " 'FG',\n",
    " 'FGA',\n",
    " 'FG%',\n",
    " '3P',\n",
    " '3PA',\n",
    " '3P%',\n",
    " 'FT',\n",
    " 'FTA',\n",
    " 'FT%',\n",
    " 'ORB',\n",
    " 'TRB',\n",
    " 'AST',\n",
    " 'STL',\n",
    " 'BLK',\n",
    " 'TOV',\n",
    " 'PF',\n",
    " '\\xa0',\n",
    " 'oppFG',\n",
    " 'oppFGA',\n",
    " 'oppFG%',\n",
    " 'opp3P',\n",
    " 'opp3PA',\n",
    " 'opp3P%',\n",
    " 'oppFT',\n",
    " 'oppFTA',\n",
    " 'oppFT%',\n",
    " 'oppORB',\n",
    " 'oppTRB',\n",
    " 'oppAST',\n",
    " 'oppSTL',\n",
    " 'oppBLK',\n",
    " 'oppTOV',\n",
    " 'oppPF']\n",
    "    return team_df"
   ]
  },
  {
   "cell_type": "code",
   "execution_count": 57,
   "metadata": {},
   "outputs": [],
   "source": [
    "GSW_df = create_team_df(\"GSW\", df_list)\n",
    "HOU_df = create_team_df(\"HOU\", df_list)\n",
    "POR_df = create_team_df(\"POR\", df_list)\n",
    "DEN_df = create_team_df(\"DEN\", df_list)\n",
    "LAC_df = create_team_df(\"LAC\", df_list)\n",
    "UTA_df = create_team_df(\"UTA\", df_list)\n",
    "OKC_df = create_team_df(\"OKC\", df_list)\n",
    "SAS_df = create_team_df(\"SAS\", df_list)\n",
    "MIL_df = create_team_df(\"MIL\", df_list)\n",
    "BOS_df = create_team_df(\"BOS\", df_list)\n",
    "PHI_df = create_team_df(\"PHI\", df_list)\n",
    "TOR_df = create_team_df(\"TOR\", df_list)\n",
    "DET_df = create_team_df(\"DET\", df_list)\n",
    "IND_df = create_team_df(\"IND\", df_list)\n",
    "ORL_df = create_team_df(\"ORL\", df_list)\n",
    "BRK_df = create_team_df(\"BRK\", df_list)"
   ]
  },
  {
   "cell_type": "code",
   "execution_count": 58,
   "metadata": {},
   "outputs": [],
   "source": [
    "#Create a team dictionary to hold all of the dataframes. Key = team name, Value = team dataframe\n",
    "teams_dict = {\n",
    "    \"GSW\" : GSW_df,\n",
    "    \"HOU\" : HOU_df,\n",
    "    \"POR\" : POR_df,\n",
    "    \"DEN\" : DEN_df,\n",
    "    \"LAC\" : LAC_df,\n",
    "    \"UTA\" : UTA_df,\n",
    "    \"OKC\" : OKC_df,\n",
    "    \"SAS\" : SAS_df,\n",
    "    \"MIL\" : MIL_df,\n",
    "    \"BOS\" : BOS_df,\n",
    "    \"PHI\" : PHI_df,\n",
    "    \"TOR\" : TOR_df,\n",
    "    \"DET\" : DET_df,\n",
    "    \"IND\" : IND_df,\n",
    "    \"ORL\" : ORL_df,\n",
    "    \"BRK\" : BRK_df\n",
    " }"
   ]
  },
  {
   "cell_type": "markdown",
   "metadata": {},
   "source": [
    "# Data Cleaning"
   ]
  },
  {
   "cell_type": "markdown",
   "metadata": {},
   "source": [
    "Our end goal for the data cleaning would be that the resulting dataframes would have no nan values. In addition, some columns do not have any data that we think is important, such as the game #... etc, and we plan on removing those. Lastly, we want to transform the some columns for easier reading and computing. In particular, the data set contains all of the game data of a particular team from year 2009 to 2019. However, a regular season will overlapped between two years, thus we want to change the date so that the year will be when the regular season ends. For the W/L record, the current data is displaying as a string \"W\" and \"L\" for win and loss. To make it easier for us to compute like the win-rate percent, we want the data to be in term of 1 and 0. The tools we will be using would be pandas library functions like dropna() as well as some of our own functions to transform the data."
   ]
  },
  {
   "cell_type": "code",
   "execution_count": 59,
   "metadata": {},
   "outputs": [],
   "source": [
    "#This array contains the month when the season begins\n",
    "firstHalf   = ['10','11','12']"
   ]
  },
  {
   "cell_type": "code",
   "execution_count": 60,
   "metadata": {},
   "outputs": [],
   "source": [
    "#This function allows us to filter out the date and month of the game. It is also easier to tell which year the data belongs to \n",
    "def standardize_year(input_year):\n",
    "    year  = str(input_year)[:4]\n",
    "    month = str(input_year)[5:7]\n",
    "    if month in firstHalf:\n",
    "        return int(year) + 1\n",
    "    else:\n",
    "        return int(year)\n",
    "\n",
    "#This function allows us to transform the W/L to computable data. W => 1, L => 0    \n",
    "def standardize_score(input_score):\n",
    "    if input_score == \"W\":\n",
    "        return int(1)\n",
    "    else:\n",
    "        return int(0)"
   ]
  },
  {
   "cell_type": "code",
   "execution_count": 61,
   "metadata": {},
   "outputs": [],
   "source": [
    "#Cleaning the data\n",
    "for w in team_array:\n",
    "    #Getting dataframe of the current team\n",
    "    currentTeam_df = teams_dict[w]      \n",
    "    #Drop rows with nan values\n",
    "    currentTeam_df = currentTeam_df.dropna() \n",
    "    #Drop columns that have unneccessary data \n",
    "    currentTeam_df = currentTeam_df.drop(columns = ['\\xa0', 'G'])            \n",
    "    #Drop rows with teams that are not in the current 2019 playoff\n",
    "    currentTeam_df = currentTeam_df[currentTeam_df['Opp'].isin(team_array)]\n",
    "    #Filter and transform the \"Date\" column\n",
    "    currentTeam_df['Date'] = currentTeam_df['Date'].apply(standardize_year)\n",
    "    #Transform the \"W/L\" column \n",
    "    currentTeam_df['W/L']  = currentTeam_df['W/L'].apply(standardize_score)\n",
    "    #Apply the modification\n",
    "    teams_dict[w]  = currentTeam_df"
   ]
  },
  {
   "cell_type": "markdown",
   "metadata": {},
   "source": [
    "#Note to Kevin\n",
    "#When you do the analysis, please use the data frame from the dictionary instead of a direct variable like GSW_df\n",
    "#I have found that those dataframes were not cleanned while the one in the dictionary did. Please delete this row once you done."
   ]
  },
  {
   "cell_type": "markdown",
   "metadata": {},
   "source": [
    "# Data Analysis & Results"
   ]
  },
  {
   "cell_type": "markdown",
   "metadata": {},
   "source": [
    "Include cells that describe the steps in your data analysis."
   ]
  },
  {
   "cell_type": "code",
   "execution_count": null,
   "metadata": {},
   "outputs": [],
   "source": [
    "## YOUR CODE HERE\n",
    "## FEEL FREE TO ADD MULTIPLE CELLS PER SECTION"
   ]
  },
  {
   "cell_type": "markdown",
   "metadata": {},
   "source": [
    "# Ethics & Privacy"
   ]
  },
  {
   "cell_type": "markdown",
   "metadata": {},
   "source": [
    "*Fill in your ethics & privacy discussion here*"
   ]
  },
  {
   "cell_type": "markdown",
   "metadata": {},
   "source": [
    "# Conclusion & Discussion"
   ]
  },
  {
   "cell_type": "markdown",
   "metadata": {},
   "source": [
    "*Fill in your discussion information here*"
   ]
  }
 ],
 "metadata": {
  "kernelspec": {
   "display_name": "Python 3",
   "language": "python",
   "name": "python3"
  },
  "language_info": {
   "codemirror_mode": {
    "name": "ipython",
    "version": 3
   },
   "file_extension": ".py",
   "mimetype": "text/x-python",
   "name": "python",
   "nbconvert_exporter": "python",
   "pygments_lexer": "ipython3",
   "version": "3.7.1"
  }
 },
 "nbformat": 4,
 "nbformat_minor": 2
}
