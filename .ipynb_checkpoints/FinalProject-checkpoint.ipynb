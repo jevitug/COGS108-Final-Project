{
 "cells": [
  {
   "cell_type": "markdown",
   "metadata": {},
   "source": [
    "# COGS 108 - Final Project "
   ]
  },
  {
   "cell_type": "markdown",
   "metadata": {},
   "source": [
    "# Overview"
   ]
  },
  {
   "cell_type": "markdown",
   "metadata": {},
   "source": [
    "*Fill in your overview here*"
   ]
  },
  {
   "cell_type": "markdown",
   "metadata": {},
   "source": [
    "# Names\n",
    "\n",
    "- Jared Vitug\n",
    "- Miguel Morales\n",
    "- Phat Ly\n",
    "- Kevin Mach"
   ]
  },
  {
   "cell_type": "markdown",
   "metadata": {},
   "source": [
    "# Group Members IDs\n",
    "\n",
    "- A92083122\n",
    "- A########\n",
    "- A########\n",
    "- A12647584"
   ]
  },
  {
   "cell_type": "markdown",
   "metadata": {},
   "source": [
    "# Research Question"
   ]
  },
  {
   "cell_type": "markdown",
   "metadata": {},
   "source": [
    "Can we predict a current winning nba bracket from regular season matchup statistics collected over the last 10 years?\n",
    "In a best-of-seven NBA playoff series, two teams will matchup against each other consecutively at least four times. This is unlike the regular season schedule in any way, where teams in the same division play at most four times but over the span of an 82 game season. However, we believe that from regular season statistics gathered from the eight current playoff matchups, over the span of the last ten years, we can predict an accurate playoff bracket for the current season’s playoffs. We will look at data such as each team’s winning percentage, number of assists, total offensive rebounds, number of roster changes, etc. to create a model that will tell us which team will win in a playoff series. We will take that model and use it to pick the winners of our bracket.\n"
   ]
  },
  {
   "cell_type": "markdown",
   "metadata": {},
   "source": [
    "## Background and Prior Work"
   ]
  },
  {
   "cell_type": "markdown",
   "metadata": {},
   "source": [
    "With NBA playoffs in full effect, we knew we wanted to research something relative to basketball that was also fun.  We all know sports are near impossible to predict and basketball is no exception - or is it? We began to wonder what if, given a playoff bracket, we could predict each round of the playoffs and thereby figure out who would win the championship.\n",
    "\n",
    "Each of us watches basketball and knows a few plays can define a game.  Injuries happen, human error occurs, and upsets take place.  However, in the world of sports betting, none of this matters - only numbers matter.  That’s why we decided to find the best combination of regular season matchup stats (between two teams pitted against each other in the playoffs) that can successfully predict a series outcome.\n",
    "\n",
    "When it comes to the individual statistics, we know that the team which wins the turnover battle usually comes out on top, as does the team with more rebounds and shooting percentage.  However, with all the different play-styles in today’s NBA (iso-ball, backcourt dominance, frontcourt dominance) we want to find out if there are other team stats that can help us predict winners, such as three pointers taken, team fouls, timeouts used, etc.\n",
    "\n",
    "\n",
    "https://towardsdatascience.com/predicting-nba-winning-percentage-in-upcoming-season-using-linear-regression-f8687d9c0418\n",
    "https://github.com/COGS108/FinalProjects-Wi18/blob/master/001-FinalProject.ipynb\n",
    "The above link is to a similar project where someone took 40 years of basketball data from basketball-reference.com and trained the data to predict NBA winning percentage.  The article says that “average age of the players, margin of victory, number of points scored, number of returning players, and number of blocks” were some of the statistics included, which gives us some idea as to which statistics to pull.   The study’s analysis discusses how wrong the model was in over-predicting winning seasons and underpredicting losing seasons with the reason being injuries, trades, and retirements - all things which are hard to predict and difficult to assess from a mathematical perspective."
   ]
  },
  {
   "cell_type": "markdown",
   "metadata": {},
   "source": [
    "# Hypothesis\n"
   ]
  },
  {
   "cell_type": "markdown",
   "metadata": {},
   "source": [
    "We hypothesize that it is possible to predict the winner of a 7-game playoff series between two NBA teams by analyzing their regular season matchup statistics.\n",
    "By narrowing our data to historical team matchups, we can examine specific factors that may be pertinent in explaining why one team may have the competitive edge. There are many accessible statistics for every NBA game, and this data can be utilized to determine if one franchise may have a playstyle better suited for a particular opponent. Features such as the record of the matchups (giving more weight to recent wins), number of possessions, offensive rebounds, total assists, turnovers, etc. are all telling of how advantageous a team is over the other. Although teams change over time due to player, coach, and management contracts, we will attempt to take those conditions into account by feature engineering, as winning teams tend to have less structure change. Additionally, we can favor more recent data as it will be more telling of the current matchup. Therefore, with a catalog of in depth matchup statistics, we hypothesize that we can create a strong dataset for our model to predict a correct playoff bracket.\n"
   ]
  },
  {
   "cell_type": "markdown",
   "metadata": {},
   "source": [
    "# Dataset(s)"
   ]
  },
  {
   "cell_type": "markdown",
   "metadata": {},
   "source": [
    "Dataset Name: NBA Advanced Stat\n",
    "Dataset Source : https://stats.nba.com/\n",
    "Dataset Link  : https://stats.nba.com/teams/traditional/?sort=W_PCT&dir=-1&Season=2018-19&SeasonType=Regular%20Season  \t\n",
    "Number of datasets planned : 10 total, 1 for each regular season starting from August 2008 -  April 2019\n",
    " \n",
    "Dataset Explanation: This website contains datasets about the NBA teams’ statistics from year 1999 to present date. Those datasets are organized as in form of a table, where the rows represent the teams and the columns are observations such as win-loss record, shooting percentages, rebounds ..etc.  Since we are planning on using the statistic of the past 10 regular season matchups, this website is useful in that it contains the information from the previous years and we will have to select the options provided in the website (in the provided link) to get the optimal dataset for our project. We will try to pull the regular season information for each year (from 2008 to present date), then drop off teams that are not participating in the current year playoff. We might also need to differentiate each season statistics, perhaps giving more weight to recent year stats than older years.  \n"
   ]
  },
  {
   "cell_type": "markdown",
   "metadata": {},
   "source": [
    "# Setup"
   ]
  },
  {
   "cell_type": "code",
   "execution_count": 39,
   "metadata": {},
   "outputs": [],
   "source": [
    "# Imports \n",
    "%matplotlib inline\n",
    "\n",
    "import numpy as np\n",
    "import pandas as pd\n",
    "import matplotlib.pyplot as plt\n",
    "import requests\n",
    "import bs4\n",
    "from bs4 import BeautifulSoup\n",
    "from sklearn.cross_validation import train_test_split\n",
    "from sklearn import linear_model\n",
    "from sklearn.linear_model import Lasso\n",
    "from sklearn.linear_model import LogisticRegression\n",
    "from sklearn.metrics import mean_squared_error, r2_score\n",
    "from sklearn.metrics import accuracy_score, recall_score, f1_score"
   ]
  },
  {
   "cell_type": "code",
   "execution_count": 2,
   "metadata": {
    "collapsed": true
   },
   "outputs": [],
   "source": [
    "#example URL\n",
    "# https://www.basketball-reference.com/teams/MIL/2019/gamelog/?fbclid=IwAR3BFW5ivLDuQE5NRVkPbHnEIlwe-CCCsoeo8RxOxmcPHssP0_mzfJgsVr8\n",
    "\n",
    "year_array = [\"2010\", \"2011\", \"2012\", \"2013\", \"2014\", \"2015\", \n",
    "              \"2016\", \"2017\", \"2018\", \"2019\"]\n",
    "team_array = [\"GSW\", \"HOU\", \"POR\", \"DEN\", \"LAC\", \"UTA\", \"OKC\", \n",
    "             \"SAS\", \"MIL\", \"BOS\", \"PHI\", \"TOR\", \"DET\", \"IND\", \"ORL\", \"BRK\"]\n",
    "\n",
    "def create_url(year_array, team_array):\n",
    "    #variables for appending the URLs\n",
    "    begLink = \"https://www.basketball-reference.com/teams/\"\n",
    "    endLink = \"/gamelog/?fbclid=IwAR3BFW5ivLDuQE5NRVkPbHnEIlwe-CCCsoeo8RxOxmcPHssP0_mzfJgsVr8\"\n",
    "    #array to store the url's\n",
    "    url_list = []\n",
    "    #loop through team_array \n",
    "    for i in team_array:\n",
    "        #loop through each year in \n",
    "        for j in year_array:\n",
    "            team_name = i\n",
    "            # if the team is Brooklyn and the year is 2010-2012, team name\n",
    "            # is New Jersey Nets\n",
    "            if(i == \"BRK\" and (j == \"2010\" or j == \"2011\" or j == \"2012\")):\n",
    "                team_name = \"NJN\"    \n",
    "            temp_url = begLink + team_name + \"/\" + j + endLink\n",
    "            #print(temp_url)\n",
    "            url_list = np.append(url_list, temp_url)\n",
    "    #print(url_list)\n",
    "    return url_list\n",
    "\n",
    "            \n",
    "url_list = create_url(year_array, team_array)\n"
   ]
  },
  {
   "cell_type": "code",
   "execution_count": 3,
   "metadata": {},
   "outputs": [
    {
     "data": {
      "text/plain": [
       "array([ 'https://www.basketball-reference.com/teams/GSW/2010/gamelog/?fbclid=IwAR3BFW5ivLDuQE5NRVkPbHnEIlwe-CCCsoeo8RxOxmcPHssP0_mzfJgsVr8',\n",
       "       'https://www.basketball-reference.com/teams/GSW/2011/gamelog/?fbclid=IwAR3BFW5ivLDuQE5NRVkPbHnEIlwe-CCCsoeo8RxOxmcPHssP0_mzfJgsVr8',\n",
       "       'https://www.basketball-reference.com/teams/GSW/2012/gamelog/?fbclid=IwAR3BFW5ivLDuQE5NRVkPbHnEIlwe-CCCsoeo8RxOxmcPHssP0_mzfJgsVr8',\n",
       "       'https://www.basketball-reference.com/teams/GSW/2013/gamelog/?fbclid=IwAR3BFW5ivLDuQE5NRVkPbHnEIlwe-CCCsoeo8RxOxmcPHssP0_mzfJgsVr8',\n",
       "       'https://www.basketball-reference.com/teams/GSW/2014/gamelog/?fbclid=IwAR3BFW5ivLDuQE5NRVkPbHnEIlwe-CCCsoeo8RxOxmcPHssP0_mzfJgsVr8',\n",
       "       'https://www.basketball-reference.com/teams/GSW/2015/gamelog/?fbclid=IwAR3BFW5ivLDuQE5NRVkPbHnEIlwe-CCCsoeo8RxOxmcPHssP0_mzfJgsVr8',\n",
       "       'https://www.basketball-reference.com/teams/GSW/2016/gamelog/?fbclid=IwAR3BFW5ivLDuQE5NRVkPbHnEIlwe-CCCsoeo8RxOxmcPHssP0_mzfJgsVr8',\n",
       "       'https://www.basketball-reference.com/teams/GSW/2017/gamelog/?fbclid=IwAR3BFW5ivLDuQE5NRVkPbHnEIlwe-CCCsoeo8RxOxmcPHssP0_mzfJgsVr8',\n",
       "       'https://www.basketball-reference.com/teams/GSW/2018/gamelog/?fbclid=IwAR3BFW5ivLDuQE5NRVkPbHnEIlwe-CCCsoeo8RxOxmcPHssP0_mzfJgsVr8',\n",
       "       'https://www.basketball-reference.com/teams/GSW/2019/gamelog/?fbclid=IwAR3BFW5ivLDuQE5NRVkPbHnEIlwe-CCCsoeo8RxOxmcPHssP0_mzfJgsVr8',\n",
       "       'https://www.basketball-reference.com/teams/HOU/2010/gamelog/?fbclid=IwAR3BFW5ivLDuQE5NRVkPbHnEIlwe-CCCsoeo8RxOxmcPHssP0_mzfJgsVr8',\n",
       "       'https://www.basketball-reference.com/teams/HOU/2011/gamelog/?fbclid=IwAR3BFW5ivLDuQE5NRVkPbHnEIlwe-CCCsoeo8RxOxmcPHssP0_mzfJgsVr8',\n",
       "       'https://www.basketball-reference.com/teams/HOU/2012/gamelog/?fbclid=IwAR3BFW5ivLDuQE5NRVkPbHnEIlwe-CCCsoeo8RxOxmcPHssP0_mzfJgsVr8',\n",
       "       'https://www.basketball-reference.com/teams/HOU/2013/gamelog/?fbclid=IwAR3BFW5ivLDuQE5NRVkPbHnEIlwe-CCCsoeo8RxOxmcPHssP0_mzfJgsVr8',\n",
       "       'https://www.basketball-reference.com/teams/HOU/2014/gamelog/?fbclid=IwAR3BFW5ivLDuQE5NRVkPbHnEIlwe-CCCsoeo8RxOxmcPHssP0_mzfJgsVr8',\n",
       "       'https://www.basketball-reference.com/teams/HOU/2015/gamelog/?fbclid=IwAR3BFW5ivLDuQE5NRVkPbHnEIlwe-CCCsoeo8RxOxmcPHssP0_mzfJgsVr8',\n",
       "       'https://www.basketball-reference.com/teams/HOU/2016/gamelog/?fbclid=IwAR3BFW5ivLDuQE5NRVkPbHnEIlwe-CCCsoeo8RxOxmcPHssP0_mzfJgsVr8',\n",
       "       'https://www.basketball-reference.com/teams/HOU/2017/gamelog/?fbclid=IwAR3BFW5ivLDuQE5NRVkPbHnEIlwe-CCCsoeo8RxOxmcPHssP0_mzfJgsVr8',\n",
       "       'https://www.basketball-reference.com/teams/HOU/2018/gamelog/?fbclid=IwAR3BFW5ivLDuQE5NRVkPbHnEIlwe-CCCsoeo8RxOxmcPHssP0_mzfJgsVr8',\n",
       "       'https://www.basketball-reference.com/teams/HOU/2019/gamelog/?fbclid=IwAR3BFW5ivLDuQE5NRVkPbHnEIlwe-CCCsoeo8RxOxmcPHssP0_mzfJgsVr8',\n",
       "       'https://www.basketball-reference.com/teams/POR/2010/gamelog/?fbclid=IwAR3BFW5ivLDuQE5NRVkPbHnEIlwe-CCCsoeo8RxOxmcPHssP0_mzfJgsVr8',\n",
       "       'https://www.basketball-reference.com/teams/POR/2011/gamelog/?fbclid=IwAR3BFW5ivLDuQE5NRVkPbHnEIlwe-CCCsoeo8RxOxmcPHssP0_mzfJgsVr8',\n",
       "       'https://www.basketball-reference.com/teams/POR/2012/gamelog/?fbclid=IwAR3BFW5ivLDuQE5NRVkPbHnEIlwe-CCCsoeo8RxOxmcPHssP0_mzfJgsVr8',\n",
       "       'https://www.basketball-reference.com/teams/POR/2013/gamelog/?fbclid=IwAR3BFW5ivLDuQE5NRVkPbHnEIlwe-CCCsoeo8RxOxmcPHssP0_mzfJgsVr8',\n",
       "       'https://www.basketball-reference.com/teams/POR/2014/gamelog/?fbclid=IwAR3BFW5ivLDuQE5NRVkPbHnEIlwe-CCCsoeo8RxOxmcPHssP0_mzfJgsVr8',\n",
       "       'https://www.basketball-reference.com/teams/POR/2015/gamelog/?fbclid=IwAR3BFW5ivLDuQE5NRVkPbHnEIlwe-CCCsoeo8RxOxmcPHssP0_mzfJgsVr8',\n",
       "       'https://www.basketball-reference.com/teams/POR/2016/gamelog/?fbclid=IwAR3BFW5ivLDuQE5NRVkPbHnEIlwe-CCCsoeo8RxOxmcPHssP0_mzfJgsVr8',\n",
       "       'https://www.basketball-reference.com/teams/POR/2017/gamelog/?fbclid=IwAR3BFW5ivLDuQE5NRVkPbHnEIlwe-CCCsoeo8RxOxmcPHssP0_mzfJgsVr8',\n",
       "       'https://www.basketball-reference.com/teams/POR/2018/gamelog/?fbclid=IwAR3BFW5ivLDuQE5NRVkPbHnEIlwe-CCCsoeo8RxOxmcPHssP0_mzfJgsVr8',\n",
       "       'https://www.basketball-reference.com/teams/POR/2019/gamelog/?fbclid=IwAR3BFW5ivLDuQE5NRVkPbHnEIlwe-CCCsoeo8RxOxmcPHssP0_mzfJgsVr8',\n",
       "       'https://www.basketball-reference.com/teams/DEN/2010/gamelog/?fbclid=IwAR3BFW5ivLDuQE5NRVkPbHnEIlwe-CCCsoeo8RxOxmcPHssP0_mzfJgsVr8',\n",
       "       'https://www.basketball-reference.com/teams/DEN/2011/gamelog/?fbclid=IwAR3BFW5ivLDuQE5NRVkPbHnEIlwe-CCCsoeo8RxOxmcPHssP0_mzfJgsVr8',\n",
       "       'https://www.basketball-reference.com/teams/DEN/2012/gamelog/?fbclid=IwAR3BFW5ivLDuQE5NRVkPbHnEIlwe-CCCsoeo8RxOxmcPHssP0_mzfJgsVr8',\n",
       "       'https://www.basketball-reference.com/teams/DEN/2013/gamelog/?fbclid=IwAR3BFW5ivLDuQE5NRVkPbHnEIlwe-CCCsoeo8RxOxmcPHssP0_mzfJgsVr8',\n",
       "       'https://www.basketball-reference.com/teams/DEN/2014/gamelog/?fbclid=IwAR3BFW5ivLDuQE5NRVkPbHnEIlwe-CCCsoeo8RxOxmcPHssP0_mzfJgsVr8',\n",
       "       'https://www.basketball-reference.com/teams/DEN/2015/gamelog/?fbclid=IwAR3BFW5ivLDuQE5NRVkPbHnEIlwe-CCCsoeo8RxOxmcPHssP0_mzfJgsVr8',\n",
       "       'https://www.basketball-reference.com/teams/DEN/2016/gamelog/?fbclid=IwAR3BFW5ivLDuQE5NRVkPbHnEIlwe-CCCsoeo8RxOxmcPHssP0_mzfJgsVr8',\n",
       "       'https://www.basketball-reference.com/teams/DEN/2017/gamelog/?fbclid=IwAR3BFW5ivLDuQE5NRVkPbHnEIlwe-CCCsoeo8RxOxmcPHssP0_mzfJgsVr8',\n",
       "       'https://www.basketball-reference.com/teams/DEN/2018/gamelog/?fbclid=IwAR3BFW5ivLDuQE5NRVkPbHnEIlwe-CCCsoeo8RxOxmcPHssP0_mzfJgsVr8',\n",
       "       'https://www.basketball-reference.com/teams/DEN/2019/gamelog/?fbclid=IwAR3BFW5ivLDuQE5NRVkPbHnEIlwe-CCCsoeo8RxOxmcPHssP0_mzfJgsVr8',\n",
       "       'https://www.basketball-reference.com/teams/LAC/2010/gamelog/?fbclid=IwAR3BFW5ivLDuQE5NRVkPbHnEIlwe-CCCsoeo8RxOxmcPHssP0_mzfJgsVr8',\n",
       "       'https://www.basketball-reference.com/teams/LAC/2011/gamelog/?fbclid=IwAR3BFW5ivLDuQE5NRVkPbHnEIlwe-CCCsoeo8RxOxmcPHssP0_mzfJgsVr8',\n",
       "       'https://www.basketball-reference.com/teams/LAC/2012/gamelog/?fbclid=IwAR3BFW5ivLDuQE5NRVkPbHnEIlwe-CCCsoeo8RxOxmcPHssP0_mzfJgsVr8',\n",
       "       'https://www.basketball-reference.com/teams/LAC/2013/gamelog/?fbclid=IwAR3BFW5ivLDuQE5NRVkPbHnEIlwe-CCCsoeo8RxOxmcPHssP0_mzfJgsVr8',\n",
       "       'https://www.basketball-reference.com/teams/LAC/2014/gamelog/?fbclid=IwAR3BFW5ivLDuQE5NRVkPbHnEIlwe-CCCsoeo8RxOxmcPHssP0_mzfJgsVr8',\n",
       "       'https://www.basketball-reference.com/teams/LAC/2015/gamelog/?fbclid=IwAR3BFW5ivLDuQE5NRVkPbHnEIlwe-CCCsoeo8RxOxmcPHssP0_mzfJgsVr8',\n",
       "       'https://www.basketball-reference.com/teams/LAC/2016/gamelog/?fbclid=IwAR3BFW5ivLDuQE5NRVkPbHnEIlwe-CCCsoeo8RxOxmcPHssP0_mzfJgsVr8',\n",
       "       'https://www.basketball-reference.com/teams/LAC/2017/gamelog/?fbclid=IwAR3BFW5ivLDuQE5NRVkPbHnEIlwe-CCCsoeo8RxOxmcPHssP0_mzfJgsVr8',\n",
       "       'https://www.basketball-reference.com/teams/LAC/2018/gamelog/?fbclid=IwAR3BFW5ivLDuQE5NRVkPbHnEIlwe-CCCsoeo8RxOxmcPHssP0_mzfJgsVr8',\n",
       "       'https://www.basketball-reference.com/teams/LAC/2019/gamelog/?fbclid=IwAR3BFW5ivLDuQE5NRVkPbHnEIlwe-CCCsoeo8RxOxmcPHssP0_mzfJgsVr8',\n",
       "       'https://www.basketball-reference.com/teams/UTA/2010/gamelog/?fbclid=IwAR3BFW5ivLDuQE5NRVkPbHnEIlwe-CCCsoeo8RxOxmcPHssP0_mzfJgsVr8',\n",
       "       'https://www.basketball-reference.com/teams/UTA/2011/gamelog/?fbclid=IwAR3BFW5ivLDuQE5NRVkPbHnEIlwe-CCCsoeo8RxOxmcPHssP0_mzfJgsVr8',\n",
       "       'https://www.basketball-reference.com/teams/UTA/2012/gamelog/?fbclid=IwAR3BFW5ivLDuQE5NRVkPbHnEIlwe-CCCsoeo8RxOxmcPHssP0_mzfJgsVr8',\n",
       "       'https://www.basketball-reference.com/teams/UTA/2013/gamelog/?fbclid=IwAR3BFW5ivLDuQE5NRVkPbHnEIlwe-CCCsoeo8RxOxmcPHssP0_mzfJgsVr8',\n",
       "       'https://www.basketball-reference.com/teams/UTA/2014/gamelog/?fbclid=IwAR3BFW5ivLDuQE5NRVkPbHnEIlwe-CCCsoeo8RxOxmcPHssP0_mzfJgsVr8',\n",
       "       'https://www.basketball-reference.com/teams/UTA/2015/gamelog/?fbclid=IwAR3BFW5ivLDuQE5NRVkPbHnEIlwe-CCCsoeo8RxOxmcPHssP0_mzfJgsVr8',\n",
       "       'https://www.basketball-reference.com/teams/UTA/2016/gamelog/?fbclid=IwAR3BFW5ivLDuQE5NRVkPbHnEIlwe-CCCsoeo8RxOxmcPHssP0_mzfJgsVr8',\n",
       "       'https://www.basketball-reference.com/teams/UTA/2017/gamelog/?fbclid=IwAR3BFW5ivLDuQE5NRVkPbHnEIlwe-CCCsoeo8RxOxmcPHssP0_mzfJgsVr8',\n",
       "       'https://www.basketball-reference.com/teams/UTA/2018/gamelog/?fbclid=IwAR3BFW5ivLDuQE5NRVkPbHnEIlwe-CCCsoeo8RxOxmcPHssP0_mzfJgsVr8',\n",
       "       'https://www.basketball-reference.com/teams/UTA/2019/gamelog/?fbclid=IwAR3BFW5ivLDuQE5NRVkPbHnEIlwe-CCCsoeo8RxOxmcPHssP0_mzfJgsVr8',\n",
       "       'https://www.basketball-reference.com/teams/OKC/2010/gamelog/?fbclid=IwAR3BFW5ivLDuQE5NRVkPbHnEIlwe-CCCsoeo8RxOxmcPHssP0_mzfJgsVr8',\n",
       "       'https://www.basketball-reference.com/teams/OKC/2011/gamelog/?fbclid=IwAR3BFW5ivLDuQE5NRVkPbHnEIlwe-CCCsoeo8RxOxmcPHssP0_mzfJgsVr8',\n",
       "       'https://www.basketball-reference.com/teams/OKC/2012/gamelog/?fbclid=IwAR3BFW5ivLDuQE5NRVkPbHnEIlwe-CCCsoeo8RxOxmcPHssP0_mzfJgsVr8',\n",
       "       'https://www.basketball-reference.com/teams/OKC/2013/gamelog/?fbclid=IwAR3BFW5ivLDuQE5NRVkPbHnEIlwe-CCCsoeo8RxOxmcPHssP0_mzfJgsVr8',\n",
       "       'https://www.basketball-reference.com/teams/OKC/2014/gamelog/?fbclid=IwAR3BFW5ivLDuQE5NRVkPbHnEIlwe-CCCsoeo8RxOxmcPHssP0_mzfJgsVr8',\n",
       "       'https://www.basketball-reference.com/teams/OKC/2015/gamelog/?fbclid=IwAR3BFW5ivLDuQE5NRVkPbHnEIlwe-CCCsoeo8RxOxmcPHssP0_mzfJgsVr8',\n",
       "       'https://www.basketball-reference.com/teams/OKC/2016/gamelog/?fbclid=IwAR3BFW5ivLDuQE5NRVkPbHnEIlwe-CCCsoeo8RxOxmcPHssP0_mzfJgsVr8',\n",
       "       'https://www.basketball-reference.com/teams/OKC/2017/gamelog/?fbclid=IwAR3BFW5ivLDuQE5NRVkPbHnEIlwe-CCCsoeo8RxOxmcPHssP0_mzfJgsVr8',\n",
       "       'https://www.basketball-reference.com/teams/OKC/2018/gamelog/?fbclid=IwAR3BFW5ivLDuQE5NRVkPbHnEIlwe-CCCsoeo8RxOxmcPHssP0_mzfJgsVr8',\n",
       "       'https://www.basketball-reference.com/teams/OKC/2019/gamelog/?fbclid=IwAR3BFW5ivLDuQE5NRVkPbHnEIlwe-CCCsoeo8RxOxmcPHssP0_mzfJgsVr8',\n",
       "       'https://www.basketball-reference.com/teams/SAS/2010/gamelog/?fbclid=IwAR3BFW5ivLDuQE5NRVkPbHnEIlwe-CCCsoeo8RxOxmcPHssP0_mzfJgsVr8',\n",
       "       'https://www.basketball-reference.com/teams/SAS/2011/gamelog/?fbclid=IwAR3BFW5ivLDuQE5NRVkPbHnEIlwe-CCCsoeo8RxOxmcPHssP0_mzfJgsVr8',\n",
       "       'https://www.basketball-reference.com/teams/SAS/2012/gamelog/?fbclid=IwAR3BFW5ivLDuQE5NRVkPbHnEIlwe-CCCsoeo8RxOxmcPHssP0_mzfJgsVr8',\n",
       "       'https://www.basketball-reference.com/teams/SAS/2013/gamelog/?fbclid=IwAR3BFW5ivLDuQE5NRVkPbHnEIlwe-CCCsoeo8RxOxmcPHssP0_mzfJgsVr8',\n",
       "       'https://www.basketball-reference.com/teams/SAS/2014/gamelog/?fbclid=IwAR3BFW5ivLDuQE5NRVkPbHnEIlwe-CCCsoeo8RxOxmcPHssP0_mzfJgsVr8',\n",
       "       'https://www.basketball-reference.com/teams/SAS/2015/gamelog/?fbclid=IwAR3BFW5ivLDuQE5NRVkPbHnEIlwe-CCCsoeo8RxOxmcPHssP0_mzfJgsVr8',\n",
       "       'https://www.basketball-reference.com/teams/SAS/2016/gamelog/?fbclid=IwAR3BFW5ivLDuQE5NRVkPbHnEIlwe-CCCsoeo8RxOxmcPHssP0_mzfJgsVr8',\n",
       "       'https://www.basketball-reference.com/teams/SAS/2017/gamelog/?fbclid=IwAR3BFW5ivLDuQE5NRVkPbHnEIlwe-CCCsoeo8RxOxmcPHssP0_mzfJgsVr8',\n",
       "       'https://www.basketball-reference.com/teams/SAS/2018/gamelog/?fbclid=IwAR3BFW5ivLDuQE5NRVkPbHnEIlwe-CCCsoeo8RxOxmcPHssP0_mzfJgsVr8',\n",
       "       'https://www.basketball-reference.com/teams/SAS/2019/gamelog/?fbclid=IwAR3BFW5ivLDuQE5NRVkPbHnEIlwe-CCCsoeo8RxOxmcPHssP0_mzfJgsVr8',\n",
       "       'https://www.basketball-reference.com/teams/MIL/2010/gamelog/?fbclid=IwAR3BFW5ivLDuQE5NRVkPbHnEIlwe-CCCsoeo8RxOxmcPHssP0_mzfJgsVr8',\n",
       "       'https://www.basketball-reference.com/teams/MIL/2011/gamelog/?fbclid=IwAR3BFW5ivLDuQE5NRVkPbHnEIlwe-CCCsoeo8RxOxmcPHssP0_mzfJgsVr8',\n",
       "       'https://www.basketball-reference.com/teams/MIL/2012/gamelog/?fbclid=IwAR3BFW5ivLDuQE5NRVkPbHnEIlwe-CCCsoeo8RxOxmcPHssP0_mzfJgsVr8',\n",
       "       'https://www.basketball-reference.com/teams/MIL/2013/gamelog/?fbclid=IwAR3BFW5ivLDuQE5NRVkPbHnEIlwe-CCCsoeo8RxOxmcPHssP0_mzfJgsVr8',\n",
       "       'https://www.basketball-reference.com/teams/MIL/2014/gamelog/?fbclid=IwAR3BFW5ivLDuQE5NRVkPbHnEIlwe-CCCsoeo8RxOxmcPHssP0_mzfJgsVr8',\n",
       "       'https://www.basketball-reference.com/teams/MIL/2015/gamelog/?fbclid=IwAR3BFW5ivLDuQE5NRVkPbHnEIlwe-CCCsoeo8RxOxmcPHssP0_mzfJgsVr8',\n",
       "       'https://www.basketball-reference.com/teams/MIL/2016/gamelog/?fbclid=IwAR3BFW5ivLDuQE5NRVkPbHnEIlwe-CCCsoeo8RxOxmcPHssP0_mzfJgsVr8',\n",
       "       'https://www.basketball-reference.com/teams/MIL/2017/gamelog/?fbclid=IwAR3BFW5ivLDuQE5NRVkPbHnEIlwe-CCCsoeo8RxOxmcPHssP0_mzfJgsVr8',\n",
       "       'https://www.basketball-reference.com/teams/MIL/2018/gamelog/?fbclid=IwAR3BFW5ivLDuQE5NRVkPbHnEIlwe-CCCsoeo8RxOxmcPHssP0_mzfJgsVr8',\n",
       "       'https://www.basketball-reference.com/teams/MIL/2019/gamelog/?fbclid=IwAR3BFW5ivLDuQE5NRVkPbHnEIlwe-CCCsoeo8RxOxmcPHssP0_mzfJgsVr8',\n",
       "       'https://www.basketball-reference.com/teams/BOS/2010/gamelog/?fbclid=IwAR3BFW5ivLDuQE5NRVkPbHnEIlwe-CCCsoeo8RxOxmcPHssP0_mzfJgsVr8',\n",
       "       'https://www.basketball-reference.com/teams/BOS/2011/gamelog/?fbclid=IwAR3BFW5ivLDuQE5NRVkPbHnEIlwe-CCCsoeo8RxOxmcPHssP0_mzfJgsVr8',\n",
       "       'https://www.basketball-reference.com/teams/BOS/2012/gamelog/?fbclid=IwAR3BFW5ivLDuQE5NRVkPbHnEIlwe-CCCsoeo8RxOxmcPHssP0_mzfJgsVr8',\n",
       "       'https://www.basketball-reference.com/teams/BOS/2013/gamelog/?fbclid=IwAR3BFW5ivLDuQE5NRVkPbHnEIlwe-CCCsoeo8RxOxmcPHssP0_mzfJgsVr8',\n",
       "       'https://www.basketball-reference.com/teams/BOS/2014/gamelog/?fbclid=IwAR3BFW5ivLDuQE5NRVkPbHnEIlwe-CCCsoeo8RxOxmcPHssP0_mzfJgsVr8',\n",
       "       'https://www.basketball-reference.com/teams/BOS/2015/gamelog/?fbclid=IwAR3BFW5ivLDuQE5NRVkPbHnEIlwe-CCCsoeo8RxOxmcPHssP0_mzfJgsVr8',\n",
       "       'https://www.basketball-reference.com/teams/BOS/2016/gamelog/?fbclid=IwAR3BFW5ivLDuQE5NRVkPbHnEIlwe-CCCsoeo8RxOxmcPHssP0_mzfJgsVr8',\n",
       "       'https://www.basketball-reference.com/teams/BOS/2017/gamelog/?fbclid=IwAR3BFW5ivLDuQE5NRVkPbHnEIlwe-CCCsoeo8RxOxmcPHssP0_mzfJgsVr8',\n",
       "       'https://www.basketball-reference.com/teams/BOS/2018/gamelog/?fbclid=IwAR3BFW5ivLDuQE5NRVkPbHnEIlwe-CCCsoeo8RxOxmcPHssP0_mzfJgsVr8',\n",
       "       'https://www.basketball-reference.com/teams/BOS/2019/gamelog/?fbclid=IwAR3BFW5ivLDuQE5NRVkPbHnEIlwe-CCCsoeo8RxOxmcPHssP0_mzfJgsVr8',\n",
       "       'https://www.basketball-reference.com/teams/PHI/2010/gamelog/?fbclid=IwAR3BFW5ivLDuQE5NRVkPbHnEIlwe-CCCsoeo8RxOxmcPHssP0_mzfJgsVr8',\n",
       "       'https://www.basketball-reference.com/teams/PHI/2011/gamelog/?fbclid=IwAR3BFW5ivLDuQE5NRVkPbHnEIlwe-CCCsoeo8RxOxmcPHssP0_mzfJgsVr8',\n",
       "       'https://www.basketball-reference.com/teams/PHI/2012/gamelog/?fbclid=IwAR3BFW5ivLDuQE5NRVkPbHnEIlwe-CCCsoeo8RxOxmcPHssP0_mzfJgsVr8',\n",
       "       'https://www.basketball-reference.com/teams/PHI/2013/gamelog/?fbclid=IwAR3BFW5ivLDuQE5NRVkPbHnEIlwe-CCCsoeo8RxOxmcPHssP0_mzfJgsVr8',\n",
       "       'https://www.basketball-reference.com/teams/PHI/2014/gamelog/?fbclid=IwAR3BFW5ivLDuQE5NRVkPbHnEIlwe-CCCsoeo8RxOxmcPHssP0_mzfJgsVr8',\n",
       "       'https://www.basketball-reference.com/teams/PHI/2015/gamelog/?fbclid=IwAR3BFW5ivLDuQE5NRVkPbHnEIlwe-CCCsoeo8RxOxmcPHssP0_mzfJgsVr8',\n",
       "       'https://www.basketball-reference.com/teams/PHI/2016/gamelog/?fbclid=IwAR3BFW5ivLDuQE5NRVkPbHnEIlwe-CCCsoeo8RxOxmcPHssP0_mzfJgsVr8',\n",
       "       'https://www.basketball-reference.com/teams/PHI/2017/gamelog/?fbclid=IwAR3BFW5ivLDuQE5NRVkPbHnEIlwe-CCCsoeo8RxOxmcPHssP0_mzfJgsVr8',\n",
       "       'https://www.basketball-reference.com/teams/PHI/2018/gamelog/?fbclid=IwAR3BFW5ivLDuQE5NRVkPbHnEIlwe-CCCsoeo8RxOxmcPHssP0_mzfJgsVr8',\n",
       "       'https://www.basketball-reference.com/teams/PHI/2019/gamelog/?fbclid=IwAR3BFW5ivLDuQE5NRVkPbHnEIlwe-CCCsoeo8RxOxmcPHssP0_mzfJgsVr8',\n",
       "       'https://www.basketball-reference.com/teams/TOR/2010/gamelog/?fbclid=IwAR3BFW5ivLDuQE5NRVkPbHnEIlwe-CCCsoeo8RxOxmcPHssP0_mzfJgsVr8',\n",
       "       'https://www.basketball-reference.com/teams/TOR/2011/gamelog/?fbclid=IwAR3BFW5ivLDuQE5NRVkPbHnEIlwe-CCCsoeo8RxOxmcPHssP0_mzfJgsVr8',\n",
       "       'https://www.basketball-reference.com/teams/TOR/2012/gamelog/?fbclid=IwAR3BFW5ivLDuQE5NRVkPbHnEIlwe-CCCsoeo8RxOxmcPHssP0_mzfJgsVr8',\n",
       "       'https://www.basketball-reference.com/teams/TOR/2013/gamelog/?fbclid=IwAR3BFW5ivLDuQE5NRVkPbHnEIlwe-CCCsoeo8RxOxmcPHssP0_mzfJgsVr8',\n",
       "       'https://www.basketball-reference.com/teams/TOR/2014/gamelog/?fbclid=IwAR3BFW5ivLDuQE5NRVkPbHnEIlwe-CCCsoeo8RxOxmcPHssP0_mzfJgsVr8',\n",
       "       'https://www.basketball-reference.com/teams/TOR/2015/gamelog/?fbclid=IwAR3BFW5ivLDuQE5NRVkPbHnEIlwe-CCCsoeo8RxOxmcPHssP0_mzfJgsVr8',\n",
       "       'https://www.basketball-reference.com/teams/TOR/2016/gamelog/?fbclid=IwAR3BFW5ivLDuQE5NRVkPbHnEIlwe-CCCsoeo8RxOxmcPHssP0_mzfJgsVr8',\n",
       "       'https://www.basketball-reference.com/teams/TOR/2017/gamelog/?fbclid=IwAR3BFW5ivLDuQE5NRVkPbHnEIlwe-CCCsoeo8RxOxmcPHssP0_mzfJgsVr8',\n",
       "       'https://www.basketball-reference.com/teams/TOR/2018/gamelog/?fbclid=IwAR3BFW5ivLDuQE5NRVkPbHnEIlwe-CCCsoeo8RxOxmcPHssP0_mzfJgsVr8',\n",
       "       'https://www.basketball-reference.com/teams/TOR/2019/gamelog/?fbclid=IwAR3BFW5ivLDuQE5NRVkPbHnEIlwe-CCCsoeo8RxOxmcPHssP0_mzfJgsVr8',\n",
       "       'https://www.basketball-reference.com/teams/DET/2010/gamelog/?fbclid=IwAR3BFW5ivLDuQE5NRVkPbHnEIlwe-CCCsoeo8RxOxmcPHssP0_mzfJgsVr8',\n",
       "       'https://www.basketball-reference.com/teams/DET/2011/gamelog/?fbclid=IwAR3BFW5ivLDuQE5NRVkPbHnEIlwe-CCCsoeo8RxOxmcPHssP0_mzfJgsVr8',\n",
       "       'https://www.basketball-reference.com/teams/DET/2012/gamelog/?fbclid=IwAR3BFW5ivLDuQE5NRVkPbHnEIlwe-CCCsoeo8RxOxmcPHssP0_mzfJgsVr8',\n",
       "       'https://www.basketball-reference.com/teams/DET/2013/gamelog/?fbclid=IwAR3BFW5ivLDuQE5NRVkPbHnEIlwe-CCCsoeo8RxOxmcPHssP0_mzfJgsVr8',\n",
       "       'https://www.basketball-reference.com/teams/DET/2014/gamelog/?fbclid=IwAR3BFW5ivLDuQE5NRVkPbHnEIlwe-CCCsoeo8RxOxmcPHssP0_mzfJgsVr8',\n",
       "       'https://www.basketball-reference.com/teams/DET/2015/gamelog/?fbclid=IwAR3BFW5ivLDuQE5NRVkPbHnEIlwe-CCCsoeo8RxOxmcPHssP0_mzfJgsVr8',\n",
       "       'https://www.basketball-reference.com/teams/DET/2016/gamelog/?fbclid=IwAR3BFW5ivLDuQE5NRVkPbHnEIlwe-CCCsoeo8RxOxmcPHssP0_mzfJgsVr8',\n",
       "       'https://www.basketball-reference.com/teams/DET/2017/gamelog/?fbclid=IwAR3BFW5ivLDuQE5NRVkPbHnEIlwe-CCCsoeo8RxOxmcPHssP0_mzfJgsVr8',\n",
       "       'https://www.basketball-reference.com/teams/DET/2018/gamelog/?fbclid=IwAR3BFW5ivLDuQE5NRVkPbHnEIlwe-CCCsoeo8RxOxmcPHssP0_mzfJgsVr8',\n",
       "       'https://www.basketball-reference.com/teams/DET/2019/gamelog/?fbclid=IwAR3BFW5ivLDuQE5NRVkPbHnEIlwe-CCCsoeo8RxOxmcPHssP0_mzfJgsVr8',\n",
       "       'https://www.basketball-reference.com/teams/IND/2010/gamelog/?fbclid=IwAR3BFW5ivLDuQE5NRVkPbHnEIlwe-CCCsoeo8RxOxmcPHssP0_mzfJgsVr8',\n",
       "       'https://www.basketball-reference.com/teams/IND/2011/gamelog/?fbclid=IwAR3BFW5ivLDuQE5NRVkPbHnEIlwe-CCCsoeo8RxOxmcPHssP0_mzfJgsVr8',\n",
       "       'https://www.basketball-reference.com/teams/IND/2012/gamelog/?fbclid=IwAR3BFW5ivLDuQE5NRVkPbHnEIlwe-CCCsoeo8RxOxmcPHssP0_mzfJgsVr8',\n",
       "       'https://www.basketball-reference.com/teams/IND/2013/gamelog/?fbclid=IwAR3BFW5ivLDuQE5NRVkPbHnEIlwe-CCCsoeo8RxOxmcPHssP0_mzfJgsVr8',\n",
       "       'https://www.basketball-reference.com/teams/IND/2014/gamelog/?fbclid=IwAR3BFW5ivLDuQE5NRVkPbHnEIlwe-CCCsoeo8RxOxmcPHssP0_mzfJgsVr8',\n",
       "       'https://www.basketball-reference.com/teams/IND/2015/gamelog/?fbclid=IwAR3BFW5ivLDuQE5NRVkPbHnEIlwe-CCCsoeo8RxOxmcPHssP0_mzfJgsVr8',\n",
       "       'https://www.basketball-reference.com/teams/IND/2016/gamelog/?fbclid=IwAR3BFW5ivLDuQE5NRVkPbHnEIlwe-CCCsoeo8RxOxmcPHssP0_mzfJgsVr8',\n",
       "       'https://www.basketball-reference.com/teams/IND/2017/gamelog/?fbclid=IwAR3BFW5ivLDuQE5NRVkPbHnEIlwe-CCCsoeo8RxOxmcPHssP0_mzfJgsVr8',\n",
       "       'https://www.basketball-reference.com/teams/IND/2018/gamelog/?fbclid=IwAR3BFW5ivLDuQE5NRVkPbHnEIlwe-CCCsoeo8RxOxmcPHssP0_mzfJgsVr8',\n",
       "       'https://www.basketball-reference.com/teams/IND/2019/gamelog/?fbclid=IwAR3BFW5ivLDuQE5NRVkPbHnEIlwe-CCCsoeo8RxOxmcPHssP0_mzfJgsVr8',\n",
       "       'https://www.basketball-reference.com/teams/ORL/2010/gamelog/?fbclid=IwAR3BFW5ivLDuQE5NRVkPbHnEIlwe-CCCsoeo8RxOxmcPHssP0_mzfJgsVr8',\n",
       "       'https://www.basketball-reference.com/teams/ORL/2011/gamelog/?fbclid=IwAR3BFW5ivLDuQE5NRVkPbHnEIlwe-CCCsoeo8RxOxmcPHssP0_mzfJgsVr8',\n",
       "       'https://www.basketball-reference.com/teams/ORL/2012/gamelog/?fbclid=IwAR3BFW5ivLDuQE5NRVkPbHnEIlwe-CCCsoeo8RxOxmcPHssP0_mzfJgsVr8',\n",
       "       'https://www.basketball-reference.com/teams/ORL/2013/gamelog/?fbclid=IwAR3BFW5ivLDuQE5NRVkPbHnEIlwe-CCCsoeo8RxOxmcPHssP0_mzfJgsVr8',\n",
       "       'https://www.basketball-reference.com/teams/ORL/2014/gamelog/?fbclid=IwAR3BFW5ivLDuQE5NRVkPbHnEIlwe-CCCsoeo8RxOxmcPHssP0_mzfJgsVr8',\n",
       "       'https://www.basketball-reference.com/teams/ORL/2015/gamelog/?fbclid=IwAR3BFW5ivLDuQE5NRVkPbHnEIlwe-CCCsoeo8RxOxmcPHssP0_mzfJgsVr8',\n",
       "       'https://www.basketball-reference.com/teams/ORL/2016/gamelog/?fbclid=IwAR3BFW5ivLDuQE5NRVkPbHnEIlwe-CCCsoeo8RxOxmcPHssP0_mzfJgsVr8',\n",
       "       'https://www.basketball-reference.com/teams/ORL/2017/gamelog/?fbclid=IwAR3BFW5ivLDuQE5NRVkPbHnEIlwe-CCCsoeo8RxOxmcPHssP0_mzfJgsVr8',\n",
       "       'https://www.basketball-reference.com/teams/ORL/2018/gamelog/?fbclid=IwAR3BFW5ivLDuQE5NRVkPbHnEIlwe-CCCsoeo8RxOxmcPHssP0_mzfJgsVr8',\n",
       "       'https://www.basketball-reference.com/teams/ORL/2019/gamelog/?fbclid=IwAR3BFW5ivLDuQE5NRVkPbHnEIlwe-CCCsoeo8RxOxmcPHssP0_mzfJgsVr8',\n",
       "       'https://www.basketball-reference.com/teams/NJN/2010/gamelog/?fbclid=IwAR3BFW5ivLDuQE5NRVkPbHnEIlwe-CCCsoeo8RxOxmcPHssP0_mzfJgsVr8',\n",
       "       'https://www.basketball-reference.com/teams/NJN/2011/gamelog/?fbclid=IwAR3BFW5ivLDuQE5NRVkPbHnEIlwe-CCCsoeo8RxOxmcPHssP0_mzfJgsVr8',\n",
       "       'https://www.basketball-reference.com/teams/NJN/2012/gamelog/?fbclid=IwAR3BFW5ivLDuQE5NRVkPbHnEIlwe-CCCsoeo8RxOxmcPHssP0_mzfJgsVr8',\n",
       "       'https://www.basketball-reference.com/teams/BRK/2013/gamelog/?fbclid=IwAR3BFW5ivLDuQE5NRVkPbHnEIlwe-CCCsoeo8RxOxmcPHssP0_mzfJgsVr8',\n",
       "       'https://www.basketball-reference.com/teams/BRK/2014/gamelog/?fbclid=IwAR3BFW5ivLDuQE5NRVkPbHnEIlwe-CCCsoeo8RxOxmcPHssP0_mzfJgsVr8',\n",
       "       'https://www.basketball-reference.com/teams/BRK/2015/gamelog/?fbclid=IwAR3BFW5ivLDuQE5NRVkPbHnEIlwe-CCCsoeo8RxOxmcPHssP0_mzfJgsVr8',\n",
       "       'https://www.basketball-reference.com/teams/BRK/2016/gamelog/?fbclid=IwAR3BFW5ivLDuQE5NRVkPbHnEIlwe-CCCsoeo8RxOxmcPHssP0_mzfJgsVr8',\n",
       "       'https://www.basketball-reference.com/teams/BRK/2017/gamelog/?fbclid=IwAR3BFW5ivLDuQE5NRVkPbHnEIlwe-CCCsoeo8RxOxmcPHssP0_mzfJgsVr8',\n",
       "       'https://www.basketball-reference.com/teams/BRK/2018/gamelog/?fbclid=IwAR3BFW5ivLDuQE5NRVkPbHnEIlwe-CCCsoeo8RxOxmcPHssP0_mzfJgsVr8',\n",
       "       'https://www.basketball-reference.com/teams/BRK/2019/gamelog/?fbclid=IwAR3BFW5ivLDuQE5NRVkPbHnEIlwe-CCCsoeo8RxOxmcPHssP0_mzfJgsVr8'], \n",
       "      dtype='|S129')"
      ]
     },
     "execution_count": 3,
     "metadata": {},
     "output_type": "execute_result"
    }
   ],
   "source": [
    "url_list"
   ]
  },
  {
   "cell_type": "code",
   "execution_count": 4,
   "metadata": {
    "collapsed": true
   },
   "outputs": [],
   "source": [
    "#this code creates a list of dataframes corresponding to the url's in url_list\n",
    "\n",
    "#list to store individual dataframes before combining\n",
    "df_list = []\n",
    "#i = 0\n",
    "for url in url_list:\n",
    "    #print(i)\n",
    "    req = requests.get(url)\n",
    "    soup = BeautifulSoup(req.content, 'html.parser') #get contents of webpage\n",
    "    nbatables = soup.findAll(\"table\", 'row_summable sortable stats_table') #get tables\n",
    "    tbl1 = nbatables[0]\n",
    "    new_tbl1 = pd.DataFrame(columns=range(0,40), index = range(0,91))\n",
    "    \n",
    "    #get the column names for our first table\n",
    "    ind=0\n",
    "    cols_list = []\n",
    "    for header in tbl1.find_all('tr'): #specify HTML tags\n",
    "        header_name = header.find_all('th') #tag containing column names\n",
    "        for head in header_name:\n",
    "            cols_list.append(head.get_text()) #get the text from between the tags\n",
    "    \n",
    "    #fill in contents for each table\n",
    "    row_marker = -1\n",
    "    for row in tbl1.find_all('tr'):\n",
    "        column_marker = 0\n",
    "        columns = row.find_all('td') # different tag than above for table contents\n",
    "        for column in columns:\n",
    "            new_tbl1.iat[row_marker,column_marker] = column.get_text()\n",
    "            column_marker += 1\n",
    "        row_marker += 1\n",
    "    df_list.append(new_tbl1)\n",
    "    #i = i + 1"
   ]
  },
  {
   "cell_type": "code",
   "execution_count": 5,
   "metadata": {
    "collapsed": true
   },
   "outputs": [],
   "source": [
    "def create_team_df(team, df_list):\n",
    "    #team_df = df_list[0]\n",
    "    if(team == \"GSW\"):\n",
    "        i = 0\n",
    "        team_df = df_list[i];\n",
    "        while i < 9:\n",
    "            team_df = team_df.append(df_list[i+1])\n",
    "            i = i + 1\n",
    "    if(team == \"HOU\"):\n",
    "        i = 10\n",
    "        team_df = df_list[i];\n",
    "        while i < 19:\n",
    "            team_df = team_df.append(df_list[i+1])\n",
    "            i = i + 1\n",
    "    if(team == \"POR\"):\n",
    "        i = 20\n",
    "        team_df = df_list[i];\n",
    "        while i < 29:\n",
    "            team_df = team_df.append(df_list[i+1])\n",
    "            i = i + 1\n",
    "    if(team == \"DEN\"):\n",
    "        i = 30\n",
    "        team_df = df_list[i];\n",
    "        while i < 39:\n",
    "            team_df = team_df.append(df_list[i+1])\n",
    "            i = i + 1\n",
    "    if(team == \"LAC\"):\n",
    "        i = 40\n",
    "        team_df = df_list[i];\n",
    "        while i < 49:\n",
    "            team_df = team_df.append(df_list[i+1])\n",
    "            i = i + 1\n",
    "    if(team == \"UTA\"):\n",
    "        i = 50\n",
    "        team_df = df_list[i];\n",
    "        while i < 59:\n",
    "            team_df = team_df.append(df_list[i+1])\n",
    "            i = i + 1\n",
    "    if(team == \"OKC\"):\n",
    "        i = 60\n",
    "        team_df = df_list[i];\n",
    "        while i < 69:\n",
    "            team_df = team_df.append(df_list[i+1])\n",
    "            i = i + 1\n",
    "    if(team == \"SAS\"):\n",
    "        i = 70\n",
    "        team_df = df_list[i];\n",
    "        while i < 79:\n",
    "            team_df = team_df.append(df_list[i+1])\n",
    "            i = i + 1\n",
    "    if(team == \"MIL\"):\n",
    "        i = 80\n",
    "        team_df = df_list[i];\n",
    "        while i < 89:\n",
    "            team_df = team_df.append(df_list[i+1])\n",
    "            i = i + 1\n",
    "    if(team == \"BOS\"):\n",
    "        i = 90\n",
    "        team_df = df_list[i];\n",
    "        while i < 99:\n",
    "            team_df = team_df.append(df_list[i+1])\n",
    "            i = i + 1\n",
    "    if(team == \"PHI\"):\n",
    "        i = 100\n",
    "        team_df = df_list[i];\n",
    "        while i < 109:\n",
    "            team_df = team_df.append(df_list[i+1])\n",
    "            i = i + 1\n",
    "    if(team == \"TOR\"):\n",
    "        i = 110\n",
    "        team_df = df_list[i];\n",
    "        while i < 119:\n",
    "            team_df = team_df.append(df_list[i+1])\n",
    "            i = i + 1\n",
    "    if(team == \"DET\"):\n",
    "        i = 120\n",
    "        team_df = df_list[i];\n",
    "        while i < 129:\n",
    "            team_df = team_df.append(df_list[i+1])\n",
    "            i = i + 1\n",
    "    if(team == \"IND\"):\n",
    "        i = 130\n",
    "        team_df = df_list[i];\n",
    "        while i < 139:\n",
    "            team_df = team_df.append(df_list[i+1])\n",
    "            i = i + 1\n",
    "    if(team == \"ORL\"):\n",
    "        i = 140\n",
    "        team_df = df_list[i];\n",
    "        while i < 149:\n",
    "            team_df = team_df.append(df_list[i+1])\n",
    "            i = i + 1\n",
    "    if(team == \"BRK\"):\n",
    "        i = 150\n",
    "        team_df = df_list[i];\n",
    "        while i < 159:\n",
    "            team_df = team_df.append(df_list[i+1])\n",
    "            i = i + 1\n",
    "    #NOTE: renamed opponent points to OppP\n",
    "    team_df.columns = [\n",
    " 'G',\n",
    " 'Date',\n",
    " '\\xa0',\n",
    " 'Opp',\n",
    " 'W/L',\n",
    " 'Tm',\n",
    " 'OppP',\n",
    " 'FG',\n",
    " 'FGA',\n",
    " 'FG%',\n",
    " '3P',\n",
    " '3PA',\n",
    " '3P%',\n",
    " 'FT',\n",
    " 'FTA',\n",
    " 'FT%',\n",
    " 'ORB',\n",
    " 'TRB',\n",
    " 'AST',\n",
    " 'STL',\n",
    " 'BLK',\n",
    " 'TOV',\n",
    " 'PF',\n",
    " '\\xa0',\n",
    " 'oppFG',\n",
    " 'oppFGA',\n",
    " 'oppFG%',\n",
    " 'opp3P',\n",
    " 'opp3PA',\n",
    " 'opp3P%',\n",
    " 'oppFT',\n",
    " 'oppFTA',\n",
    " 'oppFT%',\n",
    " 'oppORB',\n",
    " 'oppTRB',\n",
    " 'oppAST',\n",
    " 'oppSTL',\n",
    " 'oppBLK',\n",
    " 'oppTOV',\n",
    " 'oppPF']\n",
    "    return team_df"
   ]
  },
  {
   "cell_type": "code",
   "execution_count": 6,
   "metadata": {
    "collapsed": true
   },
   "outputs": [],
   "source": [
    "GSW_df = create_team_df(\"GSW\", df_list)\n",
    "HOU_df = create_team_df(\"HOU\", df_list)\n",
    "POR_df = create_team_df(\"POR\", df_list)\n",
    "DEN_df = create_team_df(\"DEN\", df_list)\n",
    "LAC_df = create_team_df(\"LAC\", df_list)\n",
    "UTA_df = create_team_df(\"UTA\", df_list)\n",
    "OKC_df = create_team_df(\"OKC\", df_list)\n",
    "SAS_df = create_team_df(\"SAS\", df_list)\n",
    "MIL_df = create_team_df(\"MIL\", df_list)\n",
    "BOS_df = create_team_df(\"BOS\", df_list)\n",
    "PHI_df = create_team_df(\"PHI\", df_list)\n",
    "TOR_df = create_team_df(\"TOR\", df_list)\n",
    "DET_df = create_team_df(\"DET\", df_list)\n",
    "IND_df = create_team_df(\"IND\", df_list)\n",
    "ORL_df = create_team_df(\"ORL\", df_list)\n",
    "BRK_df = create_team_df(\"BRK\", df_list)"
   ]
  },
  {
   "cell_type": "code",
   "execution_count": 7,
   "metadata": {
    "collapsed": true
   },
   "outputs": [],
   "source": [
    "#Create a team dictionary to hold all of the dataframes. Key = team name, Value = team dataframe\n",
    "teams_dict = {\n",
    "    \"GSW\" : GSW_df,\n",
    "    \"HOU\" : HOU_df,\n",
    "    \"POR\" : POR_df,\n",
    "    \"DEN\" : DEN_df,\n",
    "    \"LAC\" : LAC_df,\n",
    "    \"UTA\" : UTA_df,\n",
    "    \"OKC\" : OKC_df,\n",
    "    \"SAS\" : SAS_df,\n",
    "    \"MIL\" : MIL_df,\n",
    "    \"BOS\" : BOS_df,\n",
    "    \"PHI\" : PHI_df,\n",
    "    \"TOR\" : TOR_df,\n",
    "    \"DET\" : DET_df,\n",
    "    \"IND\" : IND_df,\n",
    "    \"ORL\" : ORL_df,\n",
    "    \"BRK\" : BRK_df\n",
    " } "
   ]
  },
  {
   "cell_type": "code",
   "execution_count": 8,
   "metadata": {
    "collapsed": true
   },
   "outputs": [],
   "source": [
    "# Add the team as a column for each dataframe\n",
    "for team, team_df in teams_dict.items():\n",
    "    name = []\n",
    "    # Creating a list filled with team's acronym\n",
    "    for x in range(len(team_df.index)):\n",
    "        name.append(team)\n",
    "    team_df['Team'] = name"
   ]
  },
  {
   "cell_type": "markdown",
   "metadata": {},
   "source": [
    "# Data Cleaning"
   ]
  },
  {
   "cell_type": "markdown",
   "metadata": {},
   "source": [
    "Our end goal for the data cleaning would be that the resulting dataframes would have no nan values. In addition, some columns do not have any data that we think is important, such as the game #... etc, and we plan on removing those. Lastly, we want to transform some columns for easier reading and computing. In particular, the data set contains all of the game data of a particular team from year 2009 to 2019. However, a regular season will overlapped between two years, thus we want to change the date so that the year will be when the regular season ends. For the W/L record, the current data is displaying as a string \"W\" and \"L\" for win and loss. To make it easier for us to compute like the win-rate percent, we want the data to be in term of 1 and 0. The tools we will be using would be pandas library functions like dropna() as well as some of our own functions to transform the data."
   ]
  },
  {
   "cell_type": "code",
   "execution_count": 9,
   "metadata": {
    "collapsed": true
   },
   "outputs": [],
   "source": [
    "#This array contains the month when the season begins\n",
    "firstHalf   = ['10','11','12']\n",
    "\n",
    "int_type = ['Tm', 'OppP', 'FG', 'FGA', '3P', '3PA', 'FT', 'FTA', 'ORB', 'TRB', 'AST', 'STL', 'BLK', 'TOV', 'PF', \n",
    "'oppFG', 'oppFGA', 'opp3P', 'opp3PA', 'oppFT', 'oppFTA', 'oppORB', 'oppTRB', 'oppAST', 'oppSTL', 'oppBLK', 'oppTOV','oppPF' ]\n",
    "\n",
    "float_type = ['FG%', '3P%','FT%', 'oppFG%', 'opp3P%', 'oppFT%']\n",
    "\n"
   ]
  },
  {
   "cell_type": "code",
   "execution_count": 10,
   "metadata": {
    "collapsed": true
   },
   "outputs": [],
   "source": [
    "#This function allows us to filter out the date and month of the game. It is also easier to tell which year the data belongs to \n",
    "def standardize_year(input_year):\n",
    "    year  = str(input_year)[:4]\n",
    "    month = str(input_year)[5:7]\n",
    "    if month in firstHalf:\n",
    "        return int(year) + 1\n",
    "    else:\n",
    "        return int(year)\n",
    "\n",
    "#This function allows us to transform the W/L to computable data. W => 1, L => 0    \n",
    "def standardize_score(input_score):\n",
    "    if input_score == \"W\":\n",
    "        return int(1)\n",
    "    else:\n",
    "        return int(0)"
   ]
  },
  {
   "cell_type": "code",
   "execution_count": 11,
   "metadata": {
    "collapsed": true
   },
   "outputs": [],
   "source": [
    "#Cleaning the data\n",
    "for w in team_array:\n",
    "    #Getting dataframe of the current team\n",
    "    currentTeam_df = teams_dict[w]      \n",
    "    #Drop rows with nan values\n",
    "    currentTeam_df = currentTeam_df.dropna() \n",
    "    #Drop columns that have unneccessary data \n",
    "    currentTeam_df = currentTeam_df.drop(labels = ['\\xa0', 'G'], axis=1)            \n",
    "    #Drop rows with teams that are not in the current 2019 playoff\n",
    "    currentTeam_df = currentTeam_df[currentTeam_df['Opp'].isin(team_array)]\n",
    "    #Filter and transform the \"Date\" column\n",
    "    currentTeam_df['Date'] = currentTeam_df['Date'].apply(standardize_year)\n",
    "    #Transform the \"W/L\" column \n",
    "    currentTeam_df['W/L']  = currentTeam_df['W/L'].apply(standardize_score)\n",
    "    for label in int_type:\n",
    "        currentTeam_df[label] = currentTeam_df[label].astype('int')\n",
    "    for other_label in float_type:\n",
    "        currentTeam_df[other_label] = currentTeam_df[other_label].astype('float')\n",
    "    #Apply the modification\n",
    "    teams_dict[w]  = currentTeam_df"
   ]
  },
  {
   "cell_type": "code",
   "execution_count": 12,
   "metadata": {},
   "outputs": [
    {
     "name": "stdout",
     "output_type": "stream",
     "text": [
      "<class 'pandas.core.frame.DataFrame'>\n",
      "Int64Index: 403 entries, 1 to 86\n",
      "Data columns (total 38 columns):\n",
      "Date      403 non-null int64\n",
      "Opp       403 non-null object\n",
      "W/L       403 non-null int64\n",
      "Tm        403 non-null int32\n",
      "OppP      403 non-null int32\n",
      "FG        403 non-null int32\n",
      "FGA       403 non-null int32\n",
      "FG%       403 non-null float64\n",
      "3P        403 non-null int32\n",
      "3PA       403 non-null int32\n",
      "3P%       403 non-null float64\n",
      "FT        403 non-null int32\n",
      "FTA       403 non-null int32\n",
      "FT%       403 non-null float64\n",
      "ORB       403 non-null int32\n",
      "TRB       403 non-null int32\n",
      "AST       403 non-null int32\n",
      "STL       403 non-null int32\n",
      "BLK       403 non-null int32\n",
      "TOV       403 non-null int32\n",
      "PF        403 non-null int32\n",
      "oppFG     403 non-null int32\n",
      "oppFGA    403 non-null int32\n",
      "oppFG%    403 non-null float64\n",
      "opp3P     403 non-null int32\n",
      "opp3PA    403 non-null int32\n",
      "opp3P%    403 non-null float64\n",
      "oppFT     403 non-null int32\n",
      "oppFTA    403 non-null int32\n",
      "oppFT%    403 non-null float64\n",
      "oppORB    403 non-null int32\n",
      "oppTRB    403 non-null int32\n",
      "oppAST    403 non-null int32\n",
      "oppSTL    403 non-null int32\n",
      "oppBLK    403 non-null int32\n",
      "oppTOV    403 non-null int32\n",
      "oppPF     403 non-null int32\n",
      "Team      403 non-null object\n",
      "dtypes: float64(6), int32(28), int64(2), object(2)\n",
      "memory usage: 78.7+ KB\n"
     ]
    }
   ],
   "source": [
    "teams_dict['GSW'].info()"
   ]
  },
  {
   "cell_type": "markdown",
   "metadata": {},
   "source": [
    "# Data Analysis & Results"
   ]
  },
  {
   "cell_type": "markdown",
   "metadata": {},
   "source": [
    "First we will compute the average game statistics for every team during the 2019 season against their respective opponent in the playoffs, as this will be used for the input for our model i.e. our \"testing data\". We will then concatenate these statistics to the original dataframe and begin feature engineering. Many of these features will consist of binary variables such as higherFG%, higherTOV, higher3P%, higherFT%, higherFGA, higherFTA, higher3PA, higherORB, higherTRB, higherBLK, higherSTL, higherAST, and higherPF. The label we wish to predict is whether or not they win the matchup.     "
   ]
  },
  {
   "cell_type": "code",
   "execution_count": 13,
   "metadata": {},
   "outputs": [],
   "source": [
    "# Concatenating all the teams dataframes into one dataframe\n",
    "df_all = pd.DataFrame()\n",
    "for team_df in teams_dict.values():\n",
    "    df_all = pd.concat([df_all, team_df], axis=0)"
   ]
  },
  {
   "cell_type": "code",
   "execution_count": 14,
   "metadata": {},
   "outputs": [
    {
     "name": "stdout",
     "output_type": "stream",
     "text": [
      "<class 'pandas.core.frame.DataFrame'>\n",
      "Int64Index: 6467 entries, 1 to 85\n",
      "Data columns (total 38 columns):\n",
      "Date      6467 non-null int64\n",
      "Opp       6467 non-null object\n",
      "W/L       6467 non-null int64\n",
      "Tm        6467 non-null int32\n",
      "OppP      6467 non-null int32\n",
      "FG        6467 non-null int32\n",
      "FGA       6467 non-null int32\n",
      "FG%       6467 non-null float64\n",
      "3P        6467 non-null int32\n",
      "3PA       6467 non-null int32\n",
      "3P%       6467 non-null float64\n",
      "FT        6467 non-null int32\n",
      "FTA       6467 non-null int32\n",
      "FT%       6467 non-null float64\n",
      "ORB       6467 non-null int32\n",
      "TRB       6467 non-null int32\n",
      "AST       6467 non-null int32\n",
      "STL       6467 non-null int32\n",
      "BLK       6467 non-null int32\n",
      "TOV       6467 non-null int32\n",
      "PF        6467 non-null int32\n",
      "oppFG     6467 non-null int32\n",
      "oppFGA    6467 non-null int32\n",
      "oppFG%    6467 non-null float64\n",
      "opp3P     6467 non-null int32\n",
      "opp3PA    6467 non-null int32\n",
      "opp3P%    6467 non-null float64\n",
      "oppFT     6467 non-null int32\n",
      "oppFTA    6467 non-null int32\n",
      "oppFT%    6467 non-null float64\n",
      "oppORB    6467 non-null int32\n",
      "oppTRB    6467 non-null int32\n",
      "oppAST    6467 non-null int32\n",
      "oppSTL    6467 non-null int32\n",
      "oppBLK    6467 non-null int32\n",
      "oppTOV    6467 non-null int32\n",
      "oppPF     6467 non-null int32\n",
      "Team      6467 non-null object\n",
      "dtypes: float64(6), int32(28), int64(2), object(2)\n",
      "memory usage: 1.2+ MB\n"
     ]
    }
   ],
   "source": [
    "df_all.info()"
   ]
  },
  {
   "cell_type": "code",
   "execution_count": 15,
   "metadata": {
    "collapsed": true
   },
   "outputs": [],
   "source": [
    "# This function will calculate average matchup statistics between two teams in the 2019 season and append it to the overall dataframe\n",
    "def average_stats_2019(team_name, df_team, df_total, opp):\n",
    "    df_2019 = df_team[(df_team['Date'] == 2019) & (df_team['Opp'] == opp)]\n",
    "    avgs = df_2019.mean(axis=0)\n",
    "    avgs_df = avgs.to_frame().transpose()\n",
    "    # Removing the 'W/L' column as that is what we will need to predict\n",
    "    avgs_df.drop(labels = 'W/L', axis = 1, inplace = True)\n",
    "    # Adding back the team and opp columns\n",
    "    avgs_df['Team'] = team_name\n",
    "    avgs_df['Opp'] = opp\n",
    "    return pd.concat([df_total, avgs_df], axis = 0)"
   ]
  },
  {
   "cell_type": "code",
   "execution_count": 17,
   "metadata": {},
   "outputs": [
    {
     "name": "stdout",
     "output_type": "stream",
     "text": [
      "PHI vs BRK\n",
      "UTA vs HOU\n",
      "MIL vs DET\n",
      "GSW vs LAC\n",
      "TOR vs ORL\n",
      "DET vs MIL\n",
      "BOS vs IND\n",
      "POR vs OKC\n",
      "ORL vs TOR\n",
      "LAC vs GSW\n",
      "IND vs BOS\n",
      "OKC vs POR\n",
      "HOU vs UTA\n",
      "BRK vs PHI\n",
      "DEN vs SAS\n",
      "SAS vs DEN\n"
     ]
    }
   ],
   "source": [
    "# Creating the average statistics between playoff matchups\n",
    "for team, df_team in teams_dict.items():\n",
    "    if (team == \"GSW\"):\n",
    "        opponent = \"LAC\"\n",
    "    elif (team == \"HOU\"):\n",
    "        opponent = \"UTA\"\n",
    "    elif (team == \"PHI\"):\n",
    "        opponent = \"BRK\"\n",
    "    elif (team == \"UTA\"):\n",
    "        opponent = \"HOU\"\n",
    "    elif (team == \"MIL\"):\n",
    "        opponent = \"DET\"\n",
    "    elif (team == \"TOR\"):\n",
    "        opponent = \"ORL\"\n",
    "    elif (team == \"DET\"):\n",
    "        opponent = \"MIL\"\n",
    "    elif (team == \"BOS\"):\n",
    "        opponent = \"IND\"\n",
    "    elif (team == \"POR\"):\n",
    "        opponent = \"OKC\"\n",
    "    elif (team == \"ORL\"):\n",
    "        opponent = \"TOR\"\n",
    "    elif (team == \"LAC\"):\n",
    "        opponent = \"GSW\"\n",
    "    elif (team == \"IND\"):\n",
    "        opponent = \"BOS\"\n",
    "    elif (team == \"OKC\"):\n",
    "        opponent = \"POR\"\n",
    "    elif (team == \"BRK\"):\n",
    "        opponent = \"PHI\"\n",
    "    elif (team == \"DEN\"):\n",
    "        opponent = \"SAS\"\n",
    "    elif (team == \"SAS\"):\n",
    "        opponent = \"DEN\"\n",
    "    else:\n",
    "        continue        \n",
    "    print(team + ' vs ' + opponent)\n",
    "    new_df = average_stats_2019(team, df_team, df_all, opponent)\n",
    "    df_all = new_df"
   ]
  },
  {
   "cell_type": "code",
   "execution_count": 18,
   "metadata": {},
   "outputs": [
    {
     "name": "stdout",
     "output_type": "stream",
     "text": [
      "<class 'pandas.core.frame.DataFrame'>\n",
      "Int64Index: 6483 entries, 1 to 0\n",
      "Data columns (total 38 columns):\n",
      "3P        6483 non-null float64\n",
      "3P%       6483 non-null float64\n",
      "3PA       6483 non-null float64\n",
      "AST       6483 non-null float64\n",
      "BLK       6483 non-null float64\n",
      "Date      6483 non-null float64\n",
      "FG        6483 non-null float64\n",
      "FG%       6483 non-null float64\n",
      "FGA       6483 non-null float64\n",
      "FT        6483 non-null float64\n",
      "FT%       6483 non-null float64\n",
      "FTA       6483 non-null float64\n",
      "ORB       6483 non-null float64\n",
      "Opp       6483 non-null object\n",
      "OppP      6483 non-null float64\n",
      "PF        6483 non-null float64\n",
      "STL       6483 non-null float64\n",
      "TOV       6483 non-null float64\n",
      "TRB       6483 non-null float64\n",
      "Team      6483 non-null object\n",
      "Tm        6483 non-null float64\n",
      "W/L       6467 non-null float64\n",
      "opp3P     6483 non-null float64\n",
      "opp3P%    6483 non-null float64\n",
      "opp3PA    6483 non-null float64\n",
      "oppAST    6483 non-null float64\n",
      "oppBLK    6483 non-null float64\n",
      "oppFG     6483 non-null float64\n",
      "oppFG%    6483 non-null float64\n",
      "oppFGA    6483 non-null float64\n",
      "oppFT     6483 non-null float64\n",
      "oppFT%    6483 non-null float64\n",
      "oppFTA    6483 non-null float64\n",
      "oppORB    6483 non-null float64\n",
      "oppPF     6483 non-null float64\n",
      "oppSTL    6483 non-null float64\n",
      "oppTOV    6483 non-null float64\n",
      "oppTRB    6483 non-null float64\n",
      "dtypes: float64(36), object(2)\n",
      "memory usage: 1.9+ MB\n"
     ]
    }
   ],
   "source": [
    "# Checking out the data, delete later\n",
    "df_all.info()"
   ]
  },
  {
   "cell_type": "code",
   "execution_count": 19,
   "metadata": {
    "collapsed": true
   },
   "outputs": [],
   "source": [
    "# Resetting index\n",
    "df_all = df_all.reset_index()\n",
    "df_all.drop(labels = 'index', axis = 1, inplace = True)"
   ]
  },
  {
   "cell_type": "code",
   "execution_count": 20,
   "metadata": {},
   "outputs": [
    {
     "data": {
      "text/plain": [
       "Index([u'3P', u'3P%', u'3PA', u'AST', u'BLK', u'Date', u'FG', u'FG%', u'FGA',\n",
       "       u'FT', u'FT%', u'FTA', u'ORB', u'Opp', u'OppP', u'PF', u'STL', u'TOV',\n",
       "       u'TRB', u'Team', u'Tm', u'W/L', u'opp3P', u'opp3P%', u'opp3PA',\n",
       "       u'oppAST', u'oppBLK', u'oppFG', u'oppFG%', u'oppFGA', u'oppFT',\n",
       "       u'oppFT%', u'oppFTA', u'oppORB', u'oppPF', u'oppSTL', u'oppTOV',\n",
       "       u'oppTRB'],\n",
       "      dtype='object')"
      ]
     },
     "execution_count": 20,
     "metadata": {},
     "output_type": "execute_result"
    }
   ],
   "source": [
    "df_all.columns"
   ]
  },
  {
   "cell_type": "markdown",
   "metadata": {
    "collapsed": true
   },
   "source": [
    "### Feature Engineering"
   ]
  },
  {
   "cell_type": "code",
   "execution_count": 24,
   "metadata": {},
   "outputs": [],
   "source": [
    "# higherFG%, higherTOV, higher3P%, higherFT%, higherFGA, higherFTA, higher3PA, higherORB, higherTRB, higherBLK, higherSTL \n",
    "# higherAST, higherPF\n",
    "train_data = pd.DataFrame()\n",
    "train_data['W'] = df_all['W/L']\n",
    "train_data['Team'] = df_all['Team']\n",
    "train_data['Opp'] = df_all['Opp']\n",
    "train_data['higherFG%'] = (df_all['FG%'] - df_all['oppFG%']).apply(lambda x: 1 if x > 0 else 0)\n",
    "train_data['higherTOV'] = (df_all['TOV'] - df_all['oppTOV']).apply(lambda x: 0 if x < 0 else 1)\n",
    "train_data['higher3P%'] = (df_all['3P%'] - df_all['opp3P%']).apply(lambda x: 1 if x > 0 else 0)\n",
    "train_data['higherFT%'] = (df_all['FT%'] - df_all['oppFT%']).apply(lambda x: 1 if x > 0 else 0)\n",
    "train_data['higherFGA'] = (df_all['FGA'] - df_all['oppFGA']).apply(lambda x: 1 if x > 0 else 0)\n",
    "train_data['higherFTA'] = (df_all['FTA'] - df_all['oppFTA']).apply(lambda x: 1 if x > 0 else 0)\n",
    "train_data['higher3PA'] = (df_all['3PA'] - df_all['opp3PA']).apply(lambda x: 1 if x > 0 else 0)\n",
    "train_data['higherORB'] = (df_all['ORB'] - df_all['oppORB']).apply(lambda x: 1 if x > 0 else 0)\n",
    "train_data['higherTRB'] = (df_all['TRB'] - df_all['oppTRB']).apply(lambda x: 1 if x > 0 else 0)\n",
    "train_data['higherBLK'] = (df_all['BLK'] - df_all['oppBLK']).apply(lambda x: 1 if x > 0 else 0)\n",
    "train_data['higherSTL'] = (df_all['STL'] - df_all['oppSTL']).apply(lambda x: 1 if x > 0 else 0)\n",
    "train_data['higherAST'] = (df_all['AST'] - df_all['oppAST']).apply(lambda x: 1 if x > 0 else 0)\n",
    "train_data['higherPF'] = (df_all['PF'] - df_all['oppPF']).apply(lambda x: 0 if x > 0 else 1)"
   ]
  },
  {
   "cell_type": "code",
   "execution_count": 25,
   "metadata": {},
   "outputs": [
    {
     "name": "stdout",
     "output_type": "stream",
     "text": [
      "<class 'pandas.core.frame.DataFrame'>\n",
      "RangeIndex: 6483 entries, 0 to 6482\n",
      "Data columns (total 16 columns):\n",
      "W            6467 non-null float64\n",
      "Team         6483 non-null object\n",
      "Opp          6483 non-null object\n",
      "higherFG%    6483 non-null int64\n",
      "higherTOV    6483 non-null int64\n",
      "higher3P%    6483 non-null int64\n",
      "higherFT%    6483 non-null int64\n",
      "higherFGA    6483 non-null int64\n",
      "higherFTA    6483 non-null int64\n",
      "higher3PA    6483 non-null int64\n",
      "higherORB    6483 non-null int64\n",
      "higherTRB    6483 non-null int64\n",
      "higherBLK    6483 non-null int64\n",
      "higherSTL    6483 non-null int64\n",
      "higherAST    6483 non-null int64\n",
      "higherPF     6483 non-null int64\n",
      "dtypes: float64(1), int64(13), object(2)\n",
      "memory usage: 810.4+ KB\n"
     ]
    }
   ],
   "source": [
    "train_data.info()"
   ]
  },
  {
   "cell_type": "code",
   "execution_count": 26,
   "metadata": {
    "collapsed": true
   },
   "outputs": [],
   "source": [
    "# Splitting the data into the training set and testing set\n",
    "training_data = train_data.iloc[0:6467, :]\n",
    "testing_data = train_data.iloc[6467: , :]"
   ]
  },
  {
   "cell_type": "code",
   "execution_count": 35,
   "metadata": {},
   "outputs": [],
   "source": [
    "# Splitting training data into x and y\n",
    "x = training_data.drop(labels = ['W', 'Team', 'Opp'], axis = 1)\n",
    "y = training_data['W']"
   ]
  },
  {
   "cell_type": "code",
   "execution_count": 36,
   "metadata": {},
   "outputs": [
    {
     "name": "stdout",
     "output_type": "stream",
     "text": [
      "(5173, 13) (1294, 13) (5173L,) (1294L,)\n"
     ]
    }
   ],
   "source": [
    "# Train and test split\n",
    "X_train, X_test, y_train, y_test = train_test_split(x, y, train_size=0.8, random_state=0)\n",
    "print X_train.shape, X_test.shape, y_train.shape, y_test.shape"
   ]
  },
  {
   "cell_type": "code",
   "execution_count": 37,
   "metadata": {},
   "outputs": [],
   "source": [
    "# Regression Technique\n",
    "lr = LogisticRegression()\n",
    "logmodel = lr.fit(X_train, y_train)"
   ]
  },
  {
   "cell_type": "code",
   "execution_count": 38,
   "metadata": {
    "collapsed": true
   },
   "outputs": [],
   "source": [
    "# Prediction\n",
    "prediction = logmodel.predict(X_test)"
   ]
  },
  {
   "cell_type": "code",
   "execution_count": 40,
   "metadata": {},
   "outputs": [
    {
     "data": {
      "text/plain": [
       "0.86321483771251928"
      ]
     },
     "execution_count": 40,
     "metadata": {},
     "output_type": "execute_result"
    }
   ],
   "source": [
    "# Checking accuracy of our model\n",
    "accuracy_score(y_test, prediction)"
   ]
  },
  {
   "cell_type": "markdown",
   "metadata": {},
   "source": [
    "### Playoff Predictions"
   ]
  },
  {
   "cell_type": "code",
   "execution_count": 42,
   "metadata": {},
   "outputs": [],
   "source": [
    "x1 = testing_data.drop(labels = ['W', 'Team', 'Opp'], axis = 1)\n",
    "round1_predictions = logmodel.predict(x1)"
   ]
  },
  {
   "cell_type": "code",
   "execution_count": 45,
   "metadata": {},
   "outputs": [
    {
     "data": {
      "text/html": [
       "<div>\n",
       "<style>\n",
       "    .dataframe thead tr:only-child th {\n",
       "        text-align: right;\n",
       "    }\n",
       "\n",
       "    .dataframe thead th {\n",
       "        text-align: left;\n",
       "    }\n",
       "\n",
       "    .dataframe tbody tr th {\n",
       "        vertical-align: top;\n",
       "    }\n",
       "</style>\n",
       "<table border=\"1\" class=\"dataframe\">\n",
       "  <thead>\n",
       "    <tr style=\"text-align: right;\">\n",
       "      <th></th>\n",
       "      <th>Team</th>\n",
       "      <th>Opp</th>\n",
       "      <th>W</th>\n",
       "    </tr>\n",
       "  </thead>\n",
       "  <tbody>\n",
       "    <tr>\n",
       "      <th>6467</th>\n",
       "      <td>PHI</td>\n",
       "      <td>BRK</td>\n",
       "      <td>1</td>\n",
       "    </tr>\n",
       "    <tr>\n",
       "      <th>6468</th>\n",
       "      <td>UTA</td>\n",
       "      <td>HOU</td>\n",
       "      <td>1</td>\n",
       "    </tr>\n",
       "    <tr>\n",
       "      <th>6469</th>\n",
       "      <td>MIL</td>\n",
       "      <td>DET</td>\n",
       "      <td>1</td>\n",
       "    </tr>\n",
       "    <tr>\n",
       "      <th>6470</th>\n",
       "      <td>GSW</td>\n",
       "      <td>LAC</td>\n",
       "      <td>1</td>\n",
       "    </tr>\n",
       "    <tr>\n",
       "      <th>6471</th>\n",
       "      <td>TOR</td>\n",
       "      <td>ORL</td>\n",
       "      <td>0</td>\n",
       "    </tr>\n",
       "    <tr>\n",
       "      <th>6472</th>\n",
       "      <td>DET</td>\n",
       "      <td>MIL</td>\n",
       "      <td>0</td>\n",
       "    </tr>\n",
       "    <tr>\n",
       "      <th>6473</th>\n",
       "      <td>BOS</td>\n",
       "      <td>IND</td>\n",
       "      <td>1</td>\n",
       "    </tr>\n",
       "    <tr>\n",
       "      <th>6474</th>\n",
       "      <td>POR</td>\n",
       "      <td>OKC</td>\n",
       "      <td>1</td>\n",
       "    </tr>\n",
       "    <tr>\n",
       "      <th>6475</th>\n",
       "      <td>ORL</td>\n",
       "      <td>TOR</td>\n",
       "      <td>1</td>\n",
       "    </tr>\n",
       "    <tr>\n",
       "      <th>6476</th>\n",
       "      <td>LAC</td>\n",
       "      <td>GSW</td>\n",
       "      <td>0</td>\n",
       "    </tr>\n",
       "    <tr>\n",
       "      <th>6477</th>\n",
       "      <td>IND</td>\n",
       "      <td>BOS</td>\n",
       "      <td>0</td>\n",
       "    </tr>\n",
       "    <tr>\n",
       "      <th>6478</th>\n",
       "      <td>OKC</td>\n",
       "      <td>POR</td>\n",
       "      <td>1</td>\n",
       "    </tr>\n",
       "    <tr>\n",
       "      <th>6479</th>\n",
       "      <td>HOU</td>\n",
       "      <td>UTA</td>\n",
       "      <td>0</td>\n",
       "    </tr>\n",
       "    <tr>\n",
       "      <th>6480</th>\n",
       "      <td>BRK</td>\n",
       "      <td>PHI</td>\n",
       "      <td>0</td>\n",
       "    </tr>\n",
       "    <tr>\n",
       "      <th>6481</th>\n",
       "      <td>DEN</td>\n",
       "      <td>SAS</td>\n",
       "      <td>1</td>\n",
       "    </tr>\n",
       "    <tr>\n",
       "      <th>6482</th>\n",
       "      <td>SAS</td>\n",
       "      <td>DEN</td>\n",
       "      <td>0</td>\n",
       "    </tr>\n",
       "  </tbody>\n",
       "</table>\n",
       "</div>"
      ],
      "text/plain": [
       "     Team  Opp  W\n",
       "6467  PHI  BRK  1\n",
       "6468  UTA  HOU  1\n",
       "6469  MIL  DET  1\n",
       "6470  GSW  LAC  1\n",
       "6471  TOR  ORL  0\n",
       "6472  DET  MIL  0\n",
       "6473  BOS  IND  1\n",
       "6474  POR  OKC  1\n",
       "6475  ORL  TOR  1\n",
       "6476  LAC  GSW  0\n",
       "6477  IND  BOS  0\n",
       "6478  OKC  POR  1\n",
       "6479  HOU  UTA  0\n",
       "6480  BRK  PHI  0\n",
       "6481  DEN  SAS  1\n",
       "6482  SAS  DEN  0"
      ]
     },
     "execution_count": 45,
     "metadata": {},
     "output_type": "execute_result"
    }
   ],
   "source": [
    "# Formating into a dataframe\n",
    "round1_results = pd.DataFrame()\n",
    "round1_results['Team'] = testing_data['Team']\n",
    "round1_results['Opp'] = testing_data['Opp']\n",
    "round1_results['W'] = round1_predictions.astype(int)\n",
    "\n",
    "round1_results"
   ]
  },
  {
   "cell_type": "code",
   "execution_count": null,
   "metadata": {
    "collapsed": true
   },
   "outputs": [],
   "source": [
    "round1_winners = ['PHI', 'UTA', 'MIL', 'GSW', 'BOS', 'POR', 'ORL', 'DEN']"
   ]
  },
  {
   "cell_type": "markdown",
   "metadata": {},
   "source": [
    "# Ethics & Privacy"
   ]
  },
  {
   "cell_type": "markdown",
   "metadata": {},
   "source": [
    "*Fill in your ethics & privacy discussion here*"
   ]
  },
  {
   "cell_type": "markdown",
   "metadata": {},
   "source": [
    "# Conclusion & Discussion"
   ]
  },
  {
   "cell_type": "markdown",
   "metadata": {},
   "source": [
    "*Fill in your discussion information here*"
   ]
  }
 ],
 "metadata": {
  "kernelspec": {
   "display_name": "Python 2",
   "language": "python",
   "name": "python2"
  },
  "language_info": {
   "codemirror_mode": {
    "name": "ipython",
    "version": 2
   },
   "file_extension": ".py",
   "mimetype": "text/x-python",
   "name": "python",
   "nbconvert_exporter": "python",
   "pygments_lexer": "ipython2",
   "version": "2.7.13"
  }
 },
 "nbformat": 4,
 "nbformat_minor": 2
}
